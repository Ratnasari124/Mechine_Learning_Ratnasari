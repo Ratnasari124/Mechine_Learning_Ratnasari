{
  "nbformat": 4,
  "nbformat_minor": 0,
  "metadata": {
    "colab": {
      "provenance": [],
      "authorship_tag": "ABX9TyM4NwcYVcQCjQw2V1XxzzjM",
      "include_colab_link": true
    },
    "kernelspec": {
      "name": "python3",
      "display_name": "Python 3"
    },
    "language_info": {
      "name": "python"
    }
  },
  "cells": [
    {
      "cell_type": "markdown",
      "metadata": {
        "id": "view-in-github",
        "colab_type": "text"
      },
      "source": [
        "<a href=\"https://colab.research.google.com/github/Ratnasari124/Mechine_Learning_Ratnasari/blob/main/Ratnasari_22417200007_Mesin_Learning_JS%20_1_Ekstrasi_Fitur.ipynb\" target=\"_parent\"><img src=\"https://colab.research.google.com/assets/colab-badge.svg\" alt=\"Open In Colab\"/></a>"
      ]
    },
    {
      "cell_type": "markdown",
      "source": [
        "Nama : Ratnasari  \n",
        "\n",
        "Kelas : TI 3D\n",
        "\n",
        "Absen : 25  \n",
        "\n",
        "NIM : 2241720007  \n",
        "\n"
      ],
      "metadata": {
        "id": "PFIeuEjksS-J"
      }
    },
    {
      "cell_type": "markdown",
      "source": [
        "**Praktikum BAB 1. Ekstraksi Fitur**"
      ],
      "metadata": {
        "id": "ThQNXVnQsfyi"
      }
    },
    {
      "cell_type": "markdown",
      "source": [
        "1. Implementasi Normaslisasi"
      ],
      "metadata": {
        "id": "MrfKoaXK1kgv"
      }
    },
    {
      "cell_type": "code",
      "source": [
        "def norm_data(data):\n",
        "  data_max = max(data)\n",
        "  data_min = min(data)\n",
        "  data_len = len(data)\n",
        "\n",
        "  for i in range(0, data_len):\n",
        "    data[i] = (data[i] - data_min) / (data_max - data_min)\n",
        "\n",
        "  return data\n",
        "\n",
        "# Contoh Penggunaan\n",
        "data = [10, 11, 12, 14, 16]\n",
        "n_data = norm_data(data) #melakukan normalisasi\n",
        "print(n_data)"
      ],
      "metadata": {
        "colab": {
          "base_uri": "https://localhost:8080/"
        },
        "id": "RkwzDBHtkMyq",
        "outputId": "cf5135e5-4866-44ae-ae47-065446a5d40a"
      },
      "execution_count": null,
      "outputs": [
        {
          "output_type": "stream",
          "name": "stdout",
          "text": [
            "[0.0, 0.16666666666666666, 0.3333333333333333, 0.6666666666666666, 1.0]\n"
          ]
        }
      ]
    },
    {
      "cell_type": "code",
      "source": [
        "#ini pake library meskipun gak pake rumus bisa menghasilkan hitungan\n",
        "\n",
        "import numpy as np\n",
        "from sklearn.preprocessing import MinMaxScaler\n",
        "\n",
        "np.set_printoptions(precision=6) #bulatkan 4 angka dibelakng koma\n",
        "np.set_printoptions(suppress=True) #hilangkan nilai e\n",
        "\n",
        "#kita akan membentuk data\n",
        "#hal ini dikarenakan, scikit-learn hanya menerima input\n",
        "#dalam bentuk n-dimensional array\n",
        "data = [\n",
        "    [100, 0.0001],\n",
        "    [50, 0.05],\n",
        "    [30, 0.003]\n",
        "]\n",
        "\n",
        "#Ubah ke bentuk numpy n-dimensional array\n",
        "data = np.asarray(data)\n",
        "print('Data Asli')\n",
        "print(data)\n",
        "\n",
        "#Mendefinisikan obye MinMaxScaler\n",
        "scaler = MinMaxScaler()\n",
        "#transformasidata\n",
        "scaled = scaler.fit_transform(data)\n",
        "print('Data Normalisasi')\n",
        "print(scaled)"
      ],
      "metadata": {
        "colab": {
          "base_uri": "https://localhost:8080/"
        },
        "id": "XK_puvK4lBf-",
        "outputId": "e9c0e151-2783-4c28-f69b-f399eb3123d6"
      },
      "execution_count": null,
      "outputs": [
        {
          "output_type": "stream",
          "name": "stdout",
          "text": [
            "Data Asli\n",
            "[[100.       0.0001]\n",
            " [ 50.       0.05  ]\n",
            " [ 30.       0.003 ]]\n",
            "Data Normalisasi\n",
            "[[1.       0.      ]\n",
            " [0.285714 1.      ]\n",
            " [0.       0.058116]]\n"
          ]
        }
      ]
    },
    {
      "cell_type": "markdown",
      "source": [
        "2. Imlementasi Standarisasi"
      ],
      "metadata": {
        "id": "6aUoq-mQ1yGS"
      }
    },
    {
      "cell_type": "code",
      "source": [
        "import numpy as np\n",
        "from sklearn.preprocessing import StandardScaler\n",
        "\n",
        "np.set_printoptions(precision=6) #bulatkan 4 angka dibelakng koma\n",
        "np.set_printoptions(suppress=True) #hilangkan nilai e\n",
        "\n",
        "#kita akan membentuk data\n",
        "#hal ini dikarenakan, scikit-learn hanya menerima input\n",
        "#dalam bentuk n-dimensional array\n",
        "data = [\n",
        "    [100, 0.0001],\n",
        "    [50, 0.05],\n",
        "    [30, 0.003]\n",
        "]\n",
        "\n",
        "#Ubah ke bentuk numpy n-dimensional array\n",
        "data = np.asarray(data)\n",
        "print('Data Asli')\n",
        "print(data)\n",
        "\n",
        "#Mendefinisikan obye MinMaxScaler\n",
        "scaler = StandardScaler()\n",
        "#transformasi data\n",
        "scaled = scaler.fit_transform(data)\n",
        "print('Data Standarisasi')\n",
        "print(scaled)\n"
      ],
      "metadata": {
        "colab": {
          "base_uri": "https://localhost:8080/"
        },
        "id": "uzpAlmJInTiv",
        "outputId": "b2fc697c-78ca-4c79-9279-ed79ec3ed881"
      },
      "execution_count": null,
      "outputs": [
        {
          "output_type": "stream",
          "name": "stdout",
          "text": [
            "Data Asli\n",
            "[[100.       0.0001]\n",
            " [ 50.       0.05  ]\n",
            " [ 30.       0.003 ]]\n",
            "Data Standarisasi\n",
            "[[ 1.358732 -0.76956 ]\n",
            " [-0.339683  1.412317]\n",
            " [-1.019049 -0.642757]]\n"
          ]
        }
      ]
    },
    {
      "cell_type": "markdown",
      "source": [
        "3. Implementasi Ordinal Encoding"
      ],
      "metadata": {
        "id": "If9ZXgQ216cj"
      }
    },
    {
      "cell_type": "code",
      "source": [
        "#pengurutan berdasarkan huruf\n",
        "\n",
        "from sklearn.preprocessing import OrdinalEncoder\n",
        "\n",
        "#inisial obyek Ordinal Encoder\n",
        "oe = OrdinalEncoder()\n",
        "\n",
        "#Definisikan data\n",
        "#dalam bentuk 2d\n",
        "data=[\n",
        "    ['Politeknik Negeri Malang'],\n",
        "    ['Politeknik Elektronika Negeri Surabaya'],\n",
        "    ['Politeknik Negeri Jakarta'],\n",
        "    ['Politeknik Negeri Semarang']\n",
        "]\n",
        "\n",
        "#Transformasi Ordinal Encoder\n",
        "transform_oe = oe.fit_transform(data)\n",
        "\n",
        "print('Data Asli')\n",
        "print(data)\n",
        "\n",
        "print('Data Transformasi Ordinal Encoder')\n",
        "print(transform_oe)"
      ],
      "metadata": {
        "colab": {
          "base_uri": "https://localhost:8080/"
        },
        "id": "HtjNyoUxn9DT",
        "outputId": "f3fb9839-e0b6-48e2-9644-ae5fe31b9c90"
      },
      "execution_count": null,
      "outputs": [
        {
          "output_type": "stream",
          "name": "stdout",
          "text": [
            "Data Asli\n",
            "[['Politeknik Negeri Malang'], ['Politeknik Elektronika Negeri Surabaya'], ['Politeknik Negeri Jakarta'], ['Politeknik Negeri Semarang']]\n",
            "Data Transformasi Ordinal Encoder\n",
            "[[2.]\n",
            " [0.]\n",
            " [1.]\n",
            " [3.]]\n"
          ]
        }
      ]
    },
    {
      "cell_type": "markdown",
      "source": [
        "4. Implementasi One Hot Encoding"
      ],
      "metadata": {
        "id": "lzWT50fB2CLN"
      }
    },
    {
      "cell_type": "code",
      "source": [
        "#menggunakan binner, jadi awalnya sama kayak di ordinal encoder yakni di urutkan dulu setelah itu perhitungan nya di jadiin binner misal 2 jadi 0010\n",
        "\n",
        "from sklearn.preprocessing import OneHotEncoder\n",
        "\n",
        "#inisial obyek Ordinal Encoder\n",
        "ohe = OneHotEncoder()\n",
        "\n",
        "#Definisikan data\n",
        "#dalam bentuk 2d\n",
        "data=[\n",
        "    ['Politeknik Negeri Malang'],\n",
        "    ['Politeknik Elektronika Negeri Surabaya'],\n",
        "    ['Politeknik Negeri Jakarta'],\n",
        "    ['Politeknik Negeri Semarang']\n",
        "]\n",
        "\n",
        "#Transformasi Ordinal Encoder\n",
        "transform_ohe = ohe.fit_transform(data)\n",
        "\n",
        "print('Data Asli')\n",
        "print(data)\n",
        "\n",
        "print('Data Transformasi One-Hot Encoder')\n",
        "print(transform_ohe.toarray())"
      ],
      "metadata": {
        "colab": {
          "base_uri": "https://localhost:8080/"
        },
        "id": "NR-7yISupLoL",
        "outputId": "76cc7773-4df2-4fbe-919e-8ef48e3031ee"
      },
      "execution_count": null,
      "outputs": [
        {
          "output_type": "stream",
          "name": "stdout",
          "text": [
            "Data Asli\n",
            "[['Politeknik Negeri Malang'], ['Politeknik Elektronika Negeri Surabaya'], ['Politeknik Negeri Jakarta'], ['Politeknik Negeri Semarang']]\n",
            "Data Transformasi One-Hot Encoder\n",
            "[[0. 0. 1. 0.]\n",
            " [1. 0. 0. 0.]\n",
            " [0. 1. 0. 0.]\n",
            " [0. 0. 0. 1.]]\n"
          ]
        }
      ]
    },
    {
      "cell_type": "markdown",
      "source": [
        "5. Implementasi Dummy Variable Encoding"
      ],
      "metadata": {
        "id": "4NQ-CCvf2PT-"
      }
    },
    {
      "cell_type": "code",
      "source": [
        "\n",
        "\n",
        "from sklearn.preprocessing import OneHotEncoder\n",
        "\n",
        "#inisial obyek Ordinal Encoder\n",
        "de = OneHotEncoder(drop='first')\n",
        "\n",
        "#Definisikan data\n",
        "#dalam bentuk 2d\n",
        "data=[\n",
        "    ['Politeknik Negeri Malang'],\n",
        "    ['Politeknik Elektronika Negeri Surabaya'],\n",
        "    ['Politeknik Negeri Jakarta'],\n",
        "\n",
        "    ['Politeknik Negeri Semarang']\n",
        "]\n",
        "\n",
        "#Transformasi Ordinal Encoder\n",
        "transform_de = ohe.fit_transform(data)\n",
        "\n",
        "print('Data Asli')\n",
        "print(data)\n",
        "\n",
        "print('Data Transformasi One-Hot Encoding')\n",
        "print(transform_ohe.toarray())"
      ],
      "metadata": {
        "colab": {
          "base_uri": "https://localhost:8080/"
        },
        "id": "WepYpcW-qanB",
        "outputId": "7fa88a14-1d9d-4e79-f3db-66714c365a77"
      },
      "execution_count": null,
      "outputs": [
        {
          "output_type": "stream",
          "name": "stdout",
          "text": [
            "Data Asli\n",
            "[['Politeknik Negeri Malang'], ['Politeknik Elektronika Negeri Surabaya'], ['Politeknik Negeri Jakarta'], ['Politeknik Negeri Semarang']]\n",
            "Data Transformasi One-Hot Encoding\n",
            "[[0. 0. 1. 0.]\n",
            " [1. 0. 0. 0.]\n",
            " [0. 1. 0. 0.]\n",
            " [0. 0. 0. 1.]]\n"
          ]
        }
      ]
    },
    {
      "cell_type": "markdown",
      "source": [
        "6. Studi Kasus Ekstrasi"
      ],
      "metadata": {
        "id": "6a0KxjET2Ynw"
      }
    },
    {
      "cell_type": "code",
      "source": [
        "from sklearn.feature_extraction.text import TfidfVectorizer\n",
        "\n",
        "corpus = [\n",
        "    'the house had a tiny little mouse',\n",
        "    'the cat saw the mouse',\n",
        "    'the mouse ran away from the house',\n",
        "    'the cat finally ate the mouse',\n",
        "    'the end of the mouse story'\n",
        "]\n",
        "\n",
        "#Inisialisasi obyek TFidfVectorizer\n",
        "vect = TfidfVectorizer(stop_words='english')\n",
        "\n",
        "#Pembobotan TF-IDF\n",
        "resp = vect.fit_transform(corpus)\n",
        "\n",
        "#cetak hasil\n",
        "print('\\n\\nHasil TP-IDF\\n')\n",
        "print(resp)\n",
        "\n",
        "#cetak hasil per array\n",
        "print('\\n\\nHasil Perhitungan Untuk per Array\\n')\n",
        "print(resp.toarray())\n",
        "\n",
        "#Cetak Hasil\n",
        "print('\\n\\nHasil Token\\n')\n",
        "print(vect.get_feature_names_out())"
      ],
      "metadata": {
        "colab": {
          "base_uri": "https://localhost:8080/"
        },
        "id": "PbfKeynrqrlp",
        "outputId": "37bf92d0-1b23-4d3b-e52a-a2de9c4c8adf"
      },
      "execution_count": null,
      "outputs": [
        {
          "output_type": "stream",
          "name": "stdout",
          "text": [
            "\n",
            "\n",
            "Hasil TP-IDF\n",
            "\n",
            "  (0, 7)\t0.2808823162882302\n",
            "  (0, 6)\t0.5894630806320427\n",
            "  (0, 11)\t0.5894630806320427\n",
            "  (0, 5)\t0.47557510189256375\n",
            "  (1, 9)\t0.7297183669435993\n",
            "  (1, 2)\t0.5887321837696324\n",
            "  (1, 7)\t0.3477147117091919\n",
            "  (2, 1)\t0.5894630806320427\n",
            "  (2, 8)\t0.5894630806320427\n",
            "  (2, 7)\t0.2808823162882302\n",
            "  (2, 5)\t0.47557510189256375\n",
            "  (3, 0)\t0.5894630806320427\n",
            "  (3, 4)\t0.5894630806320427\n",
            "  (3, 2)\t0.47557510189256375\n",
            "  (3, 7)\t0.2808823162882302\n",
            "  (4, 10)\t0.6700917930430479\n",
            "  (4, 3)\t0.6700917930430479\n",
            "  (4, 7)\t0.3193023297639811\n",
            "\n",
            "\n",
            "Hasil Perhitungan Untuk per Array\n",
            "\n",
            "[[0.       0.       0.       0.       0.       0.475575 0.589463 0.280882\n",
            "  0.       0.       0.       0.589463]\n",
            " [0.       0.       0.588732 0.       0.       0.       0.       0.347715\n",
            "  0.       0.729718 0.       0.      ]\n",
            " [0.       0.589463 0.       0.       0.       0.475575 0.       0.280882\n",
            "  0.589463 0.       0.       0.      ]\n",
            " [0.589463 0.       0.475575 0.       0.589463 0.       0.       0.280882\n",
            "  0.       0.       0.       0.      ]\n",
            " [0.       0.       0.       0.670092 0.       0.       0.       0.319302\n",
            "  0.       0.       0.670092 0.      ]]\n",
            "\n",
            "\n",
            "Hasil Token\n",
            "\n",
            "['ate' 'away' 'cat' 'end' 'finally' 'house' 'little' 'mouse' 'ran' 'saw'\n",
            " 'story' 'tiny']\n"
          ]
        }
      ]
    },
    {
      "cell_type": "markdown",
      "source": [
        "**PRAKTIKUM**"
      ],
      "metadata": {
        "id": "9X-T4_Xc48Aa"
      }
    },
    {
      "cell_type": "code",
      "source": [
        "from sklearn.feature_extraction.text import TfidfVectorizer\n",
        "\n",
        "# Baca data dari file 'corpus.txt'\n",
        "with open('corpus.txt', 'r') as file:\n",
        "    corpus = file.readlines()\n",
        "\n",
        "# Inisialisasi objek TFidfVectorizer\n",
        "vect = TfidfVectorizer(stop_words='english')\n",
        "\n",
        "# Pembobotan TF-IDF\n",
        "resp = vect.fit_transform(corpus)\n",
        "\n",
        "# Cetak hasil TF-IDF\n",
        "print('\\n\\nHasil TF-IDF\\n')\n",
        "print(resp)\n",
        "\n",
        "# Cetak hasil per array\n",
        "print('\\n\\nHasil Perhitungan Untuk per Array\\n')\n",
        "print(resp.toarray())\n",
        "\n",
        "# Cetak hasil token\n",
        "print('\\n\\nHasil Token\\n')\n",
        "print(vect.get_feature_names_out())\n"
      ],
      "metadata": {
        "colab": {
          "base_uri": "https://localhost:8080/"
        },
        "id": "mTOZsNQI4--L",
        "outputId": "8c5ef963-40a7-4ea2-8874-e94ffad5e187"
      },
      "execution_count": null,
      "outputs": [
        {
          "output_type": "stream",
          "name": "stdout",
          "text": [
            "\n",
            "\n",
            "Hasil TF-IDF\n",
            "\n",
            "  (0, 3)\t1.0\n",
            "  (1, 8)\t0.31257907911644855\n",
            "  (1, 7)\t0.579262311604141\n",
            "  (1, 12)\t0.579262311604141\n",
            "  (1, 6)\t0.48083746527154797\n",
            "  (2, 10)\t0.7106281860049563\n",
            "  (2, 2)\t0.5898824226331707\n",
            "  (2, 8)\t0.3834661767662525\n",
            "  (3, 1)\t0.579262311604141\n",
            "  (3, 9)\t0.579262311604141\n",
            "  (3, 8)\t0.31257907911644855\n",
            "  (3, 6)\t0.48083746527154797\n",
            "  (4, 0)\t0.579262311604141\n",
            "  (4, 5)\t0.579262311604141\n",
            "  (4, 2)\t0.48083746527154797\n",
            "  (4, 8)\t0.31257907911644855\n",
            "  (5, 11)\t0.6606476647333884\n",
            "  (5, 4)\t0.6606476647333884\n",
            "  (5, 8)\t0.3564958992255601\n",
            "\n",
            "\n",
            "Hasil Perhitungan Untuk per Array\n",
            "\n",
            "[[0.       0.       0.       1.       0.       0.       0.       0.\n",
            "  0.       0.       0.       0.       0.      ]\n",
            " [0.       0.       0.       0.       0.       0.       0.480837 0.579262\n",
            "  0.312579 0.       0.       0.       0.579262]\n",
            " [0.       0.       0.589882 0.       0.       0.       0.       0.\n",
            "  0.383466 0.       0.710628 0.       0.      ]\n",
            " [0.       0.579262 0.       0.       0.       0.       0.480837 0.\n",
            "  0.312579 0.579262 0.       0.       0.      ]\n",
            " [0.579262 0.       0.480837 0.       0.       0.579262 0.       0.\n",
            "  0.312579 0.       0.       0.       0.      ]\n",
            " [0.       0.       0.       0.       0.660648 0.       0.       0.\n",
            "  0.356496 0.       0.       0.660648 0.      ]\n",
            " [0.       0.       0.       0.       0.       0.       0.       0.\n",
            "  0.       0.       0.       0.       0.      ]]\n",
            "\n",
            "\n",
            "Hasil Token\n",
            "\n",
            "['ate' 'away' 'cat' 'corpus' 'end' 'finally' 'house' 'little' 'mouse'\n",
            " 'ran' 'saw' 'story' 'tiny']\n"
          ]
        }
      ]
    }
  ]
}