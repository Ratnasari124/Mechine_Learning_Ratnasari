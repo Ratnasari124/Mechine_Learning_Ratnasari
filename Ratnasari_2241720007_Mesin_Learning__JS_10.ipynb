{
  "cells": [
    {
      "cell_type": "markdown",
      "metadata": {
        "id": "view-in-github",
        "colab_type": "text"
      },
      "source": [
        "<a href=\"https://colab.research.google.com/github/Ratnasari124/Mechine_Learning_Ratnasari/blob/main/Ratnasari_2241720007_Mesin_Learning__JS_10.ipynb\" target=\"_parent\"><img src=\"https://colab.research.google.com/assets/colab-badge.svg\" alt=\"Open In Colab\"/></a>"
      ]
    },
    {
      "cell_type": "markdown",
      "metadata": {
        "id": "eanmgVHYwpYT"
      },
      "source": [
        "**Job Sheet 10**\n",
        "\n",
        "Recurrent Neural Network (RNN)\n",
        "\n",
        "\n",
        "---\n",
        "\n",
        "Anggota Kelompok :      \n",
        "- Lalu Immaratul Ardhi Ganeru \t(2241720169)\n",
        "- M. Kemal Nugraha \t\t\t(2241720044)\n",
        "- M. Ariel Saputra \t\t\t(2241720034)\n",
        "- Ratnasari \t\t\t\t(2241720007)\n",
        "---\n",
        "Link Jobsheet : https://polinema.gitbook.io/jti-modul-praktikum-pembelajaran-mesin/job-sheet-10-recurrent-neural-network-rnn\n"
      ]
    },
    {
      "cell_type": "markdown",
      "metadata": {
        "id": "nDA6UTEpw8kD"
      },
      "source": [
        "# **PRAKTIKUM 1**\n",
        "\n",
        "---\n",
        "\n",
        "RNN untuk Analisis Sentimen"
      ]
    },
    {
      "cell_type": "code",
      "execution_count": 2,
      "metadata": {
        "id": "e4QJFz18vIrP"
      },
      "outputs": [],
      "source": [
        "import numpy as np\n",
        "import tensorflow_datasets as tfds\n",
        "import tensorflow as tf\n",
        "\n",
        "tfds.disable_progress_bar()"
      ]
    },
    {
      "cell_type": "markdown",
      "source": [
        "`tfds.disable_progress_bar()` digunakan untuk menonaktifkan tampilan progress bar saat mendownload atau memproses data di TensorFlow Datasets."
      ],
      "metadata": {
        "id": "fZQoqxq0DV1I"
      }
    },
    {
      "cell_type": "code",
      "execution_count": 3,
      "metadata": {
        "id": "aEx16Xp2yMbp"
      },
      "outputs": [],
      "source": [
        "import matplotlib.pyplot as plt\n",
        "\n",
        "def plot_graphs(history, metric):\n",
        "  plt.plot(history.history[metric])\n",
        "  plt.plot(history.history['val_'+metric], '')\n",
        "  plt.xlabel(\"Epochs\")\n",
        "  plt.ylabel(metric)\n",
        "  plt.legend([metric, 'val_'+metric])"
      ]
    },
    {
      "cell_type": "markdown",
      "source": [
        "Kode tersebut digunakan untuk menampilkan grafik metrik pelatihan dan validasi (seperti akurasi atau loss) dari model Keras seiring bertambahnya epoch, sehingga memudahkan pemantauan performa model selama proses pelatihan.\n",
        "\n",
        "\n",
        "---\n",
        "\n",
        "detail penjelasan kode\n",
        "- plt.plot(history.history[metric]): Menggambar grafik dari metrik pelatihan untuk setiap epoch.\n",
        "- plt.plot(history.history['val_'+metric], ''): Menggambar grafik dari metrik validasi untuk setiap epoch. Metrik validasi menggunakan prefix 'val_' sebelum nama metrik.\n",
        "- plt.xlabel(\"Epochs\"): Memberi label pada sumbu-x sebagai \"Epochs\" (jumlah epoch pelatihan).\n",
        "- plt.ylabel(metric): Memberi label pada sumbu-y sesuai dengan metrik yang diberikan.\n",
        "- plt.legend([metric, 'val_'+metric]): Menambahkan legenda yang menunjukkan grafik pelatihan dan validasi."
      ],
      "metadata": {
        "id": "nvesV3vKDbOo"
      }
    },
    {
      "cell_type": "markdown",
      "metadata": {
        "id": "37MqX_aByhBQ"
      },
      "source": [
        "## Setup input pipeline\n",
        "\n",
        "---\n",
        "\n"
      ]
    },
    {
      "cell_type": "markdown",
      "metadata": {
        "id": "v7vB6vE30eGi"
      },
      "source": [
        "Download dataset menggunakan TFDS. Lihat loading text tutorial jika ingin me load data secara manua"
      ]
    },
    {
      "cell_type": "code",
      "execution_count": 4,
      "metadata": {
        "colab": {
          "base_uri": "https://localhost:8080/"
        },
        "id": "LhWwQ8WCzTeF",
        "outputId": "acaf394e-f15a-4883-955c-b11a6e07a1d8"
      },
      "outputs": [
        {
          "output_type": "stream",
          "name": "stdout",
          "text": [
            "Downloading and preparing dataset 80.23 MiB (download: 80.23 MiB, generated: Unknown size, total: 80.23 MiB) to /root/tensorflow_datasets/imdb_reviews/plain_text/1.0.0...\n",
            "Dataset imdb_reviews downloaded and prepared to /root/tensorflow_datasets/imdb_reviews/plain_text/1.0.0. Subsequent calls will reuse this data.\n"
          ]
        },
        {
          "output_type": "execute_result",
          "data": {
            "text/plain": [
              "(TensorSpec(shape=(), dtype=tf.string, name=None),\n",
              " TensorSpec(shape=(), dtype=tf.int64, name=None))"
            ]
          },
          "metadata": {},
          "execution_count": 4
        }
      ],
      "source": [
        "dataset, info = tfds.load('imdb_reviews', with_info=True,\n",
        "                          as_supervised=True)\n",
        "train_dataset, test_dataset = dataset['train'], dataset['test']\n",
        "\n",
        "train_dataset.element_spec"
      ]
    },
    {
      "cell_type": "markdown",
      "source": [
        "Kode ini memuat dataset ulasan IMDB, membaginya menjadi data pelatihan dan pengujian, lalu memeriksa struktur elemen dalam dataset untuk memahami bentuk data yang akan diproses dalam model pembelajaran mesin.\n",
        "\n",
        "---\n",
        "\n",
        "detail :\n",
        "- 'imdb_reviews': Nama dataset yang dimuat, yaitu ulasan film dari IMDB.\n",
        "- with_info=True: Meminta informasi tambahan tentang dataset, yang akan disimpan dalam variabel info.\n",
        "- as_supervised=True: Mengatur dataset agar diformat sebagai pasangan (input, label), sehingga setiap elemen dataset berisi teks ulasan (input) dan label (positif/negatif).\n",
        "- Variabel train_dataset menyimpan data pelatihan, dan test_dataset menyimpan data pengujian.\n",
        "- train_dataset.element_spec digunakan untuk memeriksa struktur atau spesifikasi elemen dalam dataset.\n"
      ],
      "metadata": {
        "id": "efZh_2weEBZ5"
      }
    },
    {
      "cell_type": "markdown",
      "metadata": {
        "id": "Eh3w8fFm0bAN"
      },
      "source": [
        "Awalnya ini mengembalikan dataset (teks, pasangan label):"
      ]
    },
    {
      "cell_type": "code",
      "execution_count": 5,
      "metadata": {
        "colab": {
          "base_uri": "https://localhost:8080/"
        },
        "id": "484Nzfwtz2xq",
        "outputId": "cc32a7c3-74b8-4682-af37-fa5bc1542ede"
      },
      "outputs": [
        {
          "output_type": "stream",
          "name": "stdout",
          "text": [
            "text:  b\"This was an absolutely terrible movie. Don't be lured in by Christopher Walken or Michael Ironside. Both are great actors, but this must simply be their worst role in history. Even their great acting could not redeem this movie's ridiculous storyline. This movie is an early nineties US propaganda piece. The most pathetic scenes were those when the Columbian rebels were making their cases for revolutions. Maria Conchita Alonso appeared phony, and her pseudo-love affair with Walken was nothing but a pathetic emotional plug in a movie that was devoid of any real meaning. I am disappointed that there are movies like this, ruining actor's like Christopher Walken's good name. I could barely sit through it.\"\n",
            "label:  0\n"
          ]
        }
      ],
      "source": [
        "for example, label in train_dataset.take(1):\n",
        "  print('text: ', example.numpy())\n",
        "  print('label: ', label.numpy())"
      ]
    },
    {
      "cell_type": "markdown",
      "source": [
        "untuk menampilkan contoh satu data (ulasan) beserta labelnya dari dataset pelatihan (train_dataset).\n",
        "\n",
        "---\n",
        "\n",
        "\n",
        "detail :    \n",
        "- train_dataset.take(1) mengambil satu batch data dari train_dataset.\n",
        "- for example, label in ... digunakan untuk mengiterasi contoh data (ulasan) dan labelnya. Meskipun hanya mengambil satu contoh, ini tetap harus dalam bentuk loop.\n",
        "- example.numpy(): Mengonversi tensor example (teks ulasan) menjadi format numpy, sehingga bisa ditampilkan sebagai teks biasa.\n",
        "- label.numpy(): Mengonversi tensor label menjadi format numpy, sehingga labelnya dapat ditampilkan sebagai angka (0 atau 1), di mana 0 biasanya berarti ulasan negatif, dan 1 berarti ulasan positif."
      ],
      "metadata": {
        "id": "JArh4qjkE13m"
      }
    },
    {
      "cell_type": "markdown",
      "metadata": {
        "id": "h9T2V9Xoz-yD"
      },
      "source": [
        "Berikutnya acak data untuk pelatihan dan membuat kumpulan pasangan (teks, label) ini:"
      ]
    },
    {
      "cell_type": "code",
      "execution_count": 6,
      "metadata": {
        "colab": {
          "base_uri": "https://localhost:8080/"
        },
        "id": "_4bCxzwnz5ON",
        "outputId": "a28d9218-740d-4965-d1c0-c91c85337278"
      },
      "outputs": [
        {
          "output_type": "stream",
          "name": "stdout",
          "text": [
            "texts:  [b'This film does a superb job of depicting the plight of an ALS (Lou Gehrig\\'s Disease)sufferer. The subject is done with compassion as well as humor. Helena Bonham Carter is so convincing as a person with ALS that I found it hard to believe that she was only acting. Kenneth Branagh, a superb actor, lives up to expectations as the quirky artist who misbehaves and is forced to provide companionship to Helena\\'s character as part of his \"community service\", an alternative to prison time. Watching the development of the relationship between these two is a treat from beginning to end. Tha fact that it is a fairy tale does not detract from the fabulous performances. One comes to care deeply for the two of them.'\n",
            " b'(spoilers)The one truly memorable part of this otherwise rather dull and tepid bit of British cuisine is Steiner\\'s henna rinse, one of the worst dye jobs ever. That, and the magnificent caterpillar eyebrows on the old evil dude who was trying to steal Steiner\\'s invention. MST3K does an admirable job of making a wretchedly boring and grey film funny.I particularly like it when Crow kills Mike with his \\'touch of death\\', and when he revives him in the theatre, Mike cries \"Guys, I died, I saw eternal truth and beauty! oh, it\\'s this movie...\" That would be a letdown, having to come back from the afterlife to watch the rest of The Projected Man. The film could make a fortune being sold as a sleep aide. Some of the puns in the film were wicked: police inspector-\"electrocution!\" Crow-\"Shocking, isn\\'t it?\" police inspector-\"That\\'s LOwe, all right\" Tom Servo-\"Very low, right down by the floor!\" police inspector-\"Can I get on?\" Tom Servo-\"He\\'s dead, but knock yourself out\" MST3K is definitely the only way to watch this snoozer.'\n",
            " b\"Escaping the life of being pimped by her father(..and the speakeasy waitressing)who dies in an explosion, Lily Powers(Barbara Stanwyck, who is simply ravishing)sluts her way through the branches inside a bank business in big city Gotham. When a possessive lover murders who was supposed to be his next father-in-law(and Lily's new lover), the sky's the limit for Lily as she has written down her various relationships in a diary and subtlety makes it known the papers will receive it if certain pay doesn't come into her hands. Newly appointed president to the bank, Courtland Trenholm(George Brent), sends Lily to Paris instead of forking over lots of dough, but soon finds himself madly in love after various encounters with her in the City of Love. This makes Lily's mouth water as now she'll have reached the pedestal of success seducing a man of wealth and prestige bring riches her way. Though, circumstances ensue which will bring her to make a decision that threatens her successful way of achieving those riches..Trenholm, now her husband, is being indicted with jail certain and has lost the bank. He needs money Lily now has in her possession or he'll have absolutely nothing.<br /><br />Stanwyck is the whole movie despite that usual Warner Brothers polish. Being set in the pre-code era gives the filmmakers the chance to elaborate on taboo subjects such as a woman using sex to achieve success and how that can lead to tragedy. Good direction from Alfred E Green shows through subtlety hints in different mannerisms and speech through good acting from the seductive performance of Stanwyck how to stage something without actually showing the explicit act. Obviously the film shows that money isn't everything and all that jazz as love comes into the heart of Lily's dead heart. That ending having Lily achieve the miraculous metamorphosis into someone in love didn't ring true to me. She's spent all this time to get to that platform only to fall for a man who was essentially no different than others she had used before him.\"]\n",
            "\n",
            "labels:  [1 0 1]\n"
          ]
        }
      ],
      "source": [
        "BUFFER_SIZE = 10000\n",
        "BATCH_SIZE = 64\n",
        "\n",
        "train_dataset = train_dataset.shuffle(BUFFER_SIZE).batch(BATCH_SIZE).prefetch(tf.data.AUTOTUNE)\n",
        "test_dataset = test_dataset.batch(BATCH_SIZE).prefetch(tf.data.AUTOTUNE)\n",
        "\n",
        "def cast_to_object(text, label):\n",
        "  return tf.cast(text, tf.string), tf.cast(label, tf.int64)  # Or any desired dtype\n",
        "\n",
        "train_dataset = train_dataset.map(cast_to_object)\n",
        "test_dataset = test_dataset.map(cast_to_object)\n",
        "\n",
        "for example, label in train_dataset.take(1):\n",
        "  print('texts: ', example.numpy()[:3])\n",
        "  print()\n",
        "  print('labels: ', label.numpy()[:3])\n"
      ]
    },
    {
      "cell_type": "markdown",
      "source": [
        "Kode ini menyiapkan dataset untuk pelatihan dengan mengacak, membagi menjadi batch, mengonversi tipe data, dan menampilkan contoh data beserta labelnya.\n",
        "\n",
        "\n",
        "---\n",
        "detail :    \n",
        "- BUFFER_SIZE: Ukuran buffer untuk mengacak dataset, yang membantu meningkatkan keragaman data saat pelatihan.\n",
        "- BATCH_SIZE: Jumlah contoh data yang akan diproses sekaligus dalam satu iterasi.\n",
        "- shuffle(BUFFER_SIZE): Mengacak urutan data dalam train_dataset.\n",
        "- batch(BATCH_SIZE): Membagi dataset menjadi batch yang berisi 64 contoh.\n",
        "- prefetch(tf.data.AUTOTUNE): Mengoptimalkan pengambilan data dengan memuat data berikutnya saat model sedang dilatih, yang meningkatkan efisiensi.\n",
        "- cast_to_object: Fungsi yang mengonversi tipe data teks menjadi string dan label menjadi integer 64-bit.\n"
      ],
      "metadata": {
        "id": "KPtKQu_vFzd8"
      }
    },
    {
      "cell_type": "markdown",
      "metadata": {
        "id": "uqkGN6dh0ird"
      },
      "source": [
        "## Buat Teks Encoder\n",
        "\n",
        "---\n",
        "\n"
      ]
    },
    {
      "cell_type": "code",
      "execution_count": 7,
      "metadata": {
        "id": "f1gvOXqZ0j_L"
      },
      "outputs": [],
      "source": [
        "VOCAB_SIZE = 1000\n",
        "encoder = tf.keras.layers.TextVectorization(\n",
        "    max_tokens=VOCAB_SIZE)\n",
        "encoder.adapt(train_dataset.map(lambda text, label: text))"
      ]
    },
    {
      "cell_type": "markdown",
      "source": [
        "tujuan kode ini untuk mengonversi ulasan teks menjadi representasi numerik, dengan membatasi kosakata pada 1000 kata paling umum yang terdapat dalam dataset pelatihan.\n",
        "\n",
        "---\n",
        "detail :    \n",
        "- tf.keras.layers.TextVectorization: Layer Keras yang digunakan untuk mengonversi teks menjadi token numerik. Parameter max_tokens mengatur batas jumlah kata unik.\n",
        "- encoder.adapt(...): Mengadaptasi encoder dengan data dari train_dataset, dalam hal ini hanya mengambil teks (text).\n",
        "- map(lambda text, label: text): Menggunakan fungsi map untuk mengekstrak hanya teks dari pasangan (text, label)."
      ],
      "metadata": {
        "id": "hagHVX2xGYIE"
      }
    },
    {
      "cell_type": "code",
      "execution_count": 8,
      "metadata": {
        "colab": {
          "base_uri": "https://localhost:8080/"
        },
        "id": "fT6-bZIj0m63",
        "outputId": "8cc497c8-248a-4b54-aa97-e21f2469fdad"
      },
      "outputs": [
        {
          "output_type": "execute_result",
          "data": {
            "text/plain": [
              "array(['', '[UNK]', 'the', 'and', 'a', 'of', 'to', 'is', 'in', 'it', 'i',\n",
              "       'this', 'that', 'br', 'was', 'as', 'for', 'with', 'movie', 'but'],\n",
              "      dtype='<U14')"
            ]
          },
          "metadata": {},
          "execution_count": 8
        }
      ],
      "source": [
        "vocab=np.array(encoder.get_vocabulary())\n",
        "vocab[:20]"
      ]
    },
    {
      "cell_type": "markdown",
      "source": [
        "Kode ini berfungsi untuk mengambil kosakata yang dihasilkan oleh layer TextVectorization dan menampilkan 20 kata pertama dari kosakata tersebut, memberikan gambaran tentang kata-kata yang akan digunakan dalam proses pelatihan model."
      ],
      "metadata": {
        "id": "X1fsWgNkG6Bh"
      }
    },
    {
      "cell_type": "code",
      "execution_count": 9,
      "metadata": {
        "colab": {
          "base_uri": "https://localhost:8080/"
        },
        "id": "1mDeeoBHTXnq",
        "outputId": "17b154ff-a427-4e44-a43a-d5e583ed113e"
      },
      "outputs": [
        {
          "output_type": "execute_result",
          "data": {
            "text/plain": [
              "array([[ 11,  20, 121, ...,   0,   0,   0],\n",
              "       [  1,  29, 353, ...,   0,   0,   0],\n",
              "       [  1,   2, 119, ...,   0,   0,   0]])"
            ]
          },
          "metadata": {},
          "execution_count": 9
        }
      ],
      "source": [
        "encoded_example=encoder(example)[:3].numpy()\n",
        "encoded_example"
      ]
    },
    {
      "cell_type": "markdown",
      "source": [
        "mengonversi teks ulasan menjadi representasi numerik menggunakan encoder yang telah diadaptasi, lalu mengambil dan menyimpan tiga indeks pertama dari representasi tersebut dalam bentuk array NumPy."
      ],
      "metadata": {
        "id": "1Rpah17jHGIQ"
      }
    },
    {
      "cell_type": "code",
      "execution_count": 10,
      "metadata": {
        "colab": {
          "base_uri": "https://localhost:8080/"
        },
        "id": "JKCKRPeXTpTx",
        "outputId": "17f845fc-e4fe-489d-c417-d21ebbbe8701"
      },
      "outputs": [
        {
          "output_type": "stream",
          "name": "stdout",
          "text": [
            "Original:  b'This film does a superb job of depicting the plight of an ALS (Lou Gehrig\\'s Disease)sufferer. The subject is done with compassion as well as humor. Helena Bonham Carter is so convincing as a person with ALS that I found it hard to believe that she was only acting. Kenneth Branagh, a superb actor, lives up to expectations as the quirky artist who misbehaves and is forced to provide companionship to Helena\\'s character as part of his \"community service\", an alternative to prison time. Watching the development of the relationship between these two is a treat from beginning to end. Tha fact that it is a fairy tale does not detract from the fabulous performances. One comes to care deeply for the two of them.'\n",
            "Round-trip:  this film does a superb job of [UNK] the [UNK] of an [UNK] [UNK] [UNK] [UNK] the subject is done with [UNK] as well as humor [UNK] [UNK] [UNK] is so [UNK] as a person with [UNK] that i found it hard to believe that she was only acting [UNK] [UNK] a superb actor lives up to [UNK] as the [UNK] [UNK] who [UNK] and is forced to [UNK] [UNK] to [UNK] character as part of his [UNK] [UNK] an [UNK] to [UNK] time watching the development of the relationship between these two is a [UNK] from beginning to end [UNK] fact that it is a [UNK] tale does not [UNK] from the [UNK] performances one comes to care [UNK] for the two of them                                                                                                                                                                                                                                                                                                                                                                                                                                                                                                                                                                                                 \n",
            "\n",
            "Original:  b'(spoilers)The one truly memorable part of this otherwise rather dull and tepid bit of British cuisine is Steiner\\'s henna rinse, one of the worst dye jobs ever. That, and the magnificent caterpillar eyebrows on the old evil dude who was trying to steal Steiner\\'s invention. MST3K does an admirable job of making a wretchedly boring and grey film funny.I particularly like it when Crow kills Mike with his \\'touch of death\\', and when he revives him in the theatre, Mike cries \"Guys, I died, I saw eternal truth and beauty! oh, it\\'s this movie...\" That would be a letdown, having to come back from the afterlife to watch the rest of The Projected Man. The film could make a fortune being sold as a sleep aide. Some of the puns in the film were wicked: police inspector-\"electrocution!\" Crow-\"Shocking, isn\\'t it?\" police inspector-\"That\\'s LOwe, all right\" Tom Servo-\"Very low, right down by the floor!\" police inspector-\"Can I get on?\" Tom Servo-\"He\\'s dead, but knock yourself out\" MST3K is definitely the only way to watch this snoozer.'\n",
            "Round-trip:  [UNK] one truly memorable part of this otherwise rather dull and [UNK] bit of british [UNK] is [UNK] [UNK] [UNK] one of the worst [UNK] [UNK] ever that and the [UNK] [UNK] [UNK] on the old evil [UNK] who was trying to [UNK] [UNK] [UNK] [UNK] does an [UNK] job of making a [UNK] boring and [UNK] film [UNK] particularly like it when [UNK] [UNK] [UNK] with his [UNK] of death and when he [UNK] him in the [UNK] [UNK] [UNK] guys i [UNK] i saw [UNK] truth and beauty oh its this movie that would be a [UNK] having to come back from the [UNK] to watch the rest of the [UNK] man the film could make a [UNK] being [UNK] as a [UNK] [UNK] some of the [UNK] in the film were [UNK] police [UNK] [UNK] isnt it police [UNK] [UNK] all right tom [UNK] low right down by the [UNK] police [UNK] i get on tom [UNK] dead but [UNK] yourself out [UNK] is definitely the only way to watch this [UNK]                                                                                                                                                                                                                                                                                                                                                                                                                                                                                                                                               \n",
            "\n",
            "Original:  b\"Escaping the life of being pimped by her father(..and the speakeasy waitressing)who dies in an explosion, Lily Powers(Barbara Stanwyck, who is simply ravishing)sluts her way through the branches inside a bank business in big city Gotham. When a possessive lover murders who was supposed to be his next father-in-law(and Lily's new lover), the sky's the limit for Lily as she has written down her various relationships in a diary and subtlety makes it known the papers will receive it if certain pay doesn't come into her hands. Newly appointed president to the bank, Courtland Trenholm(George Brent), sends Lily to Paris instead of forking over lots of dough, but soon finds himself madly in love after various encounters with her in the City of Love. This makes Lily's mouth water as now she'll have reached the pedestal of success seducing a man of wealth and prestige bring riches her way. Though, circumstances ensue which will bring her to make a decision that threatens her successful way of achieving those riches..Trenholm, now her husband, is being indicted with jail certain and has lost the bank. He needs money Lily now has in her possession or he'll have absolutely nothing.<br /><br />Stanwyck is the whole movie despite that usual Warner Brothers polish. Being set in the pre-code era gives the filmmakers the chance to elaborate on taboo subjects such as a woman using sex to achieve success and how that can lead to tragedy. Good direction from Alfred E Green shows through subtlety hints in different mannerisms and speech through good acting from the seductive performance of Stanwyck how to stage something without actually showing the explicit act. Obviously the film shows that money isn't everything and all that jazz as love comes into the heart of Lily's dead heart. That ending having Lily achieve the miraculous metamorphosis into someone in love didn't ring true to me. She's spent all this time to get to that platform only to fall for a man who was essentially no different than others she had used before him.\"\n",
            "Round-trip:  [UNK] the life of being [UNK] by her [UNK] the [UNK] [UNK] [UNK] in an [UNK] [UNK] [UNK] [UNK] who is simply [UNK] her way through the [UNK] inside a [UNK] business in big city [UNK] when a [UNK] [UNK] [UNK] who was supposed to be his next [UNK] [UNK] new [UNK] the [UNK] the [UNK] for [UNK] as she has written down her various [UNK] in a [UNK] and [UNK] makes it known the [UNK] will [UNK] it if certain pay doesnt come into her hands [UNK] [UNK] [UNK] to the [UNK] [UNK] [UNK] [UNK] [UNK] [UNK] to [UNK] instead of [UNK] over lots of [UNK] but soon finds himself [UNK] in love after various [UNK] with her in the city of love this makes [UNK] [UNK] [UNK] as now [UNK] have [UNK] the [UNK] of [UNK] [UNK] a man of [UNK] and [UNK] bring [UNK] her way though [UNK] [UNK] which will bring her to make a [UNK] that [UNK] her [UNK] way of [UNK] those [UNK] now her husband is being [UNK] with [UNK] certain and has lost the [UNK] he needs money [UNK] now has in her [UNK] or hell have absolutely [UNK] br [UNK] is the whole movie despite that usual [UNK] brothers [UNK] being set in the [UNK] [UNK] gives the filmmakers the chance to [UNK] on [UNK] [UNK] such as a woman using sex to [UNK] [UNK] and how that can lead to [UNK] good direction from [UNK] [UNK] [UNK] shows through [UNK] [UNK] in different [UNK] and [UNK] through good acting from the [UNK] performance of [UNK] how to stage something without actually showing the [UNK] act obviously the film shows that money isnt everything and all that [UNK] as love comes into the heart of [UNK] dead heart that ending having [UNK] [UNK] the [UNK] [UNK] into someone in love didnt [UNK] true to me shes [UNK] all this time to get to that [UNK] only to fall for a man who was [UNK] no different than others she had used before him                                                                                                                                                                                                                                                                                                                                                                        \n",
            "\n"
          ]
        }
      ],
      "source": [
        "for n in range(3):\n",
        "  print(\"Original: \", example[n].numpy())\n",
        "  print(\"Round-trip: \", \" \".join(vocab[encoded_example[n]]))\n",
        "  print()"
      ]
    },
    {
      "cell_type": "markdown",
      "source": [
        "digunakan untuk menampilkan dan membandingkan teks ulasan asli dengan teks yang telah dikonversi menjadi representasi numerik dan kemudian dikembalikan (reverse-encoded) kembali ke bentuk teks."
      ],
      "metadata": {
        "id": "pKmY93QPHRQr"
      }
    },
    {
      "cell_type": "markdown",
      "metadata": {
        "id": "_X_jxksDTsRf"
      },
      "source": [
        "## Buat Model\n",
        "\n",
        "\n",
        "---\n",
        "\n"
      ]
    },
    {
      "cell_type": "code",
      "execution_count": 14,
      "metadata": {
        "id": "ciGnbUnOT_A_"
      },
      "outputs": [],
      "source": [
        "model = tf.keras.Sequential([\n",
        "    encoder,\n",
        "    tf.keras.layers.Embedding(\n",
        "        input_dim=len(encoder.get_vocabulary()),\n",
        "        output_dim=64,\n",
        "        # Use masking to handle the variable sequence lengths\n",
        "        mask_zero=True),\n",
        "    tf.keras.layers.Bidirectional(tf.keras.layers.LSTM(64)),\n",
        "    tf.keras.layers.Dense(64, activation='relu'),\n",
        "    tf.keras.layers.Dense(1)\n",
        "])"
      ]
    },
    {
      "cell_type": "markdown",
      "source": [
        "Kode ini membangun model Keras dengan beberapa layer, termasuk encoding teks, embedding, LSTM bidirectional, dan layer dense, untuk melakukan analisis sentimen atau tugas klasifikasi lain pada ulasan teks. Model ini dirancang untuk mengolah input teks dan menghasilkan output biner.\n",
        "\n",
        "---\n",
        "detail :    \n",
        "- tf.keras.Sequential: Digunakan untuk membuat model dengan tumpukan lapisan (layers) yang saling terhubung secara berurutan.\n",
        "- encoder:  untuk mengonversi teks menjadi numerik.\n",
        "- tf.keras.layers.Embedding: Mengubah representasi numerik dari kata menjadi vektor berdimensi rendah\n",
        "- tf.keras.layers.Bidirectional: Membuat LSTM dapat beroperasi dalam dua arah (maju dan mundur) untuk menangkap konteks dari dua arah dalam urutan.\n",
        "- tf.keras.layers.LSTM(64): Menggunakan Long Short-Term Memory (LSTM) dengan 64 unit, yang efektif dalam menangkap dependensi jangka panjang dalam data sekuensial seperti teks.\n"
      ],
      "metadata": {
        "id": "2KPsBcXzHcqL"
      }
    },
    {
      "cell_type": "code",
      "execution_count": 15,
      "metadata": {
        "colab": {
          "base_uri": "https://localhost:8080/"
        },
        "id": "3HpfBCeDUFCj",
        "outputId": "04258617-53c5-4a2e-f294-07d3a751b1cd"
      },
      "outputs": [
        {
          "output_type": "stream",
          "name": "stdout",
          "text": [
            "[False, True, True, True, True]\n"
          ]
        }
      ],
      "source": [
        "print([layer.supports_masking for layer in model.layers])"
      ]
    },
    {
      "cell_type": "markdown",
      "source": [
        "Kode ini menghasilkan daftar boolean yang menunjukkan apakah setiap layer dalam model mendukung fitur masking.\n",
        "\n",
        "layer.supports_masking: Untuk setiap layer, atribut ini mengembalikan nilai boolean (True atau False) yang menunjukkan apakah layer tersebut mendukung masking."
      ],
      "metadata": {
        "id": "Gq1yNb_4IH_h"
      }
    },
    {
      "cell_type": "code",
      "source": [
        "import numpy as np\n",
        "import tensorflow as tf\n",
        "\n",
        "# Fungsi untuk memproses teks menjadi dataset\n",
        "def create_dataset(text):\n",
        "    return tf.data.Dataset.from_tensor_slices([text]).batch(1)\n",
        "\n",
        "sample_text = ('The movie was cool. The animation and the graphics '\n",
        "               'were out of this world. I would recommend this movie.')\n",
        "dataset = create_dataset(sample_text)\n",
        "\n",
        "# Prediksi menggunakan model\n",
        "predictions = model.predict(dataset)\n",
        "print(predictions[0])"
      ],
      "metadata": {
        "colab": {
          "base_uri": "https://localhost:8080/"
        },
        "id": "5arPsduQ3f12",
        "outputId": "a438c3e0-155b-4000-c90f-f8d9c0509911"
      },
      "execution_count": 18,
      "outputs": [
        {
          "output_type": "stream",
          "name": "stdout",
          "text": [
            "\u001b[1m1/1\u001b[0m \u001b[32m━━━━━━━━━━━━━━━━━━━━\u001b[0m\u001b[37m\u001b[0m \u001b[1m4s\u001b[0m 4s/step\n",
            "[-0.00645058]\n"
          ]
        }
      ]
    },
    {
      "cell_type": "code",
      "source": [
        "import numpy as np\n",
        "import tensorflow as tf\n",
        "\n",
        "# Fungsi untuk memproses teks menjadi dataset\n",
        "def create_dataset(texts):\n",
        "    return tf.data.Dataset.from_tensor_slices(texts).batch(1)\n",
        "\n",
        "sample_text = ('The movie was cool. The animation and the graphics '\n",
        "               'were out of this world. I would recommend this movie.')\n",
        "padding = \"the \" * 2000  # Padding text\n",
        "texts = [sample_text, padding]  # List of texts including padding\n",
        "\n",
        "# Membuat dataset dari teks\n",
        "dataset = create_dataset(texts)\n",
        "\n",
        "# Prediksi menggunakan model\n",
        "predictions = model.predict(dataset)\n",
        "for pred in predictions:\n",
        "    print(pred)"
      ],
      "metadata": {
        "colab": {
          "base_uri": "https://localhost:8080/"
        },
        "id": "SiiVd9d08q8_",
        "outputId": "4cd2ac0f-0a7a-4eef-84b1-6bfce4a3ef48"
      },
      "execution_count": 19,
      "outputs": [
        {
          "output_type": "stream",
          "name": "stdout",
          "text": [
            "\u001b[1m2/2\u001b[0m \u001b[32m━━━━━━━━━━━━━━━━━━━━\u001b[0m\u001b[37m\u001b[0m \u001b[1m0s\u001b[0m 72ms/step\n",
            "[-0.00645058]\n",
            "[-0.01259859]\n"
          ]
        }
      ]
    },
    {
      "cell_type": "markdown",
      "source": [
        "penjelasan untuk 2 kode diatas\n",
        "\n",
        "Kode ini memproses beberapa teks (termasuk padding) menjadi format dataset yang bisa digunakan oleh model, lalu membuat prediksi untuk setiap teks dan mencetak hasilnya."
      ],
      "metadata": {
        "id": "KJ0FGxDfIl-J"
      }
    },
    {
      "cell_type": "code",
      "execution_count": 20,
      "metadata": {
        "colab": {
          "base_uri": "https://localhost:8080/"
        },
        "id": "NSIK2MkgUXU9",
        "outputId": "2abcf070-12f1-4210-9bf0-29ae70f322be"
      },
      "outputs": [
        {
          "output_type": "stream",
          "name": "stdout",
          "text": [
            "Epoch 1/10\n",
            "\u001b[1m391/391\u001b[0m \u001b[32m━━━━━━━━━━━━━━━━━━━━\u001b[0m\u001b[37m\u001b[0m \u001b[1m28s\u001b[0m 58ms/step - accuracy: 0.5055 - loss: 0.6894 - val_accuracy: 0.5078 - val_loss: 0.6276\n",
            "Epoch 2/10\n",
            "\u001b[1m391/391\u001b[0m \u001b[32m━━━━━━━━━━━━━━━━━━━━\u001b[0m\u001b[37m\u001b[0m \u001b[1m39s\u001b[0m 59ms/step - accuracy: 0.6806 - loss: 0.5507 - val_accuracy: 0.8089 - val_loss: 0.4241\n",
            "Epoch 3/10\n",
            "\u001b[1m391/391\u001b[0m \u001b[32m━━━━━━━━━━━━━━━━━━━━\u001b[0m\u001b[37m\u001b[0m \u001b[1m41s\u001b[0m 59ms/step - accuracy: 0.8200 - loss: 0.4075 - val_accuracy: 0.8354 - val_loss: 0.3680\n",
            "Epoch 4/10\n",
            "\u001b[1m391/391\u001b[0m \u001b[32m━━━━━━━━━━━━━━━━━━━━\u001b[0m\u001b[37m\u001b[0m \u001b[1m41s\u001b[0m 59ms/step - accuracy: 0.8391 - loss: 0.3696 - val_accuracy: 0.8302 - val_loss: 0.3670\n",
            "Epoch 5/10\n",
            "\u001b[1m391/391\u001b[0m \u001b[32m━━━━━━━━━━━━━━━━━━━━\u001b[0m\u001b[37m\u001b[0m \u001b[1m42s\u001b[0m 62ms/step - accuracy: 0.8493 - loss: 0.3457 - val_accuracy: 0.8542 - val_loss: 0.3369\n",
            "Epoch 6/10\n",
            "\u001b[1m391/391\u001b[0m \u001b[32m━━━━━━━━━━━━━━━━━━━━\u001b[0m\u001b[37m\u001b[0m \u001b[1m40s\u001b[0m 60ms/step - accuracy: 0.8634 - loss: 0.3251 - val_accuracy: 0.8344 - val_loss: 0.3516\n",
            "Epoch 7/10\n",
            "\u001b[1m391/391\u001b[0m \u001b[32m━━━━━━━━━━━━━━━━━━━━\u001b[0m\u001b[37m\u001b[0m \u001b[1m41s\u001b[0m 60ms/step - accuracy: 0.8613 - loss: 0.3253 - val_accuracy: 0.8646 - val_loss: 0.3283\n",
            "Epoch 8/10\n",
            "\u001b[1m391/391\u001b[0m \u001b[32m━━━━━━━━━━━━━━━━━━━━\u001b[0m\u001b[37m\u001b[0m \u001b[1m41s\u001b[0m 60ms/step - accuracy: 0.8675 - loss: 0.3143 - val_accuracy: 0.8589 - val_loss: 0.3233\n",
            "Epoch 9/10\n",
            "\u001b[1m391/391\u001b[0m \u001b[32m━━━━━━━━━━━━━━━━━━━━\u001b[0m\u001b[37m\u001b[0m \u001b[1m24s\u001b[0m 60ms/step - accuracy: 0.8684 - loss: 0.3173 - val_accuracy: 0.8417 - val_loss: 0.3226\n",
            "Epoch 10/10\n",
            "\u001b[1m391/391\u001b[0m \u001b[32m━━━━━━━━━━━━━━━━━━━━\u001b[0m\u001b[37m\u001b[0m \u001b[1m42s\u001b[0m 62ms/step - accuracy: 0.8679 - loss: 0.3137 - val_accuracy: 0.8547 - val_loss: 0.3291\n"
          ]
        }
      ],
      "source": [
        "model.compile(loss=tf.keras.losses.BinaryCrossentropy(from_logits=True),\n",
        "              optimizer=tf.keras.optimizers.Adam(1e-4),\n",
        "              metrics=['accuracy'])\n",
        "\n",
        "history = model.fit(train_dataset, epochs=10, validation_data=test_dataset, validation_steps=30)"
      ]
    },
    {
      "cell_type": "markdown",
      "source": [
        "menyusun model dengan fungsi loss dan optimizer yang sesuai, kemudian melatih model selama 10 epoch dengan melacak akurasi dan melakukan validasi menggunakan dataset pengujian.\n",
        "\n",
        "---\n",
        "\n",
        "detail :      \n",
        "- model.compile(...): Menyiapkan model untuk pelatihan dengan menentukan fungsi loss, optimizer, dan metrik yang akan dipantau.\n",
        "- loss=tf.keras.losses.BinaryCrossentropy(from_logits=True): Menentukan fungsi loss sebagai Binary Crossentropy, yang umum digunakan untuk klasifikasi biner. Parameter from_logits=True menunjukkan bahwa output model adalah logits (nilai tidak dinormalisasi).\n",
        "- optimizer=tf.keras.optimizers.Adam(1e-4): Menggunakan optimizer Adam dengan laju pembelajaran 0.0001, yang membantu model belajar lebih cepat dan lebih efektif.\n",
        "- metrics=['accuracy']: Mengatur metrik yang akan dilacak selama pelatihan, dalam hal ini adalah akurasi."
      ],
      "metadata": {
        "id": "5XUrcddvI8IV"
      }
    },
    {
      "cell_type": "markdown",
      "metadata": {
        "id": "oh2PtzSZanU6"
      },
      "source": [
        "## Train Model"
      ]
    },
    {
      "cell_type": "code",
      "source": [
        "history = model.fit(train_dataset, epochs=10,\n",
        "                    validation_data=test_dataset,\n",
        "                    validation_steps=30)"
      ],
      "metadata": {
        "colab": {
          "base_uri": "https://localhost:8080/"
        },
        "id": "jUxs0975-Yv7",
        "outputId": "a1d3b248-b76e-495e-ef79-2bc2081992df"
      },
      "execution_count": 21,
      "outputs": [
        {
          "output_type": "stream",
          "name": "stdout",
          "text": [
            "Epoch 1/10\n",
            "\u001b[1m391/391\u001b[0m \u001b[32m━━━━━━━━━━━━━━━━━━━━\u001b[0m\u001b[37m\u001b[0m \u001b[1m26s\u001b[0m 65ms/step - accuracy: 0.8708 - loss: 0.3059 - val_accuracy: 0.8370 - val_loss: 0.3476\n",
            "Epoch 2/10\n",
            "\u001b[1m391/391\u001b[0m \u001b[32m━━━━━━━━━━━━━━━━━━━━\u001b[0m\u001b[37m\u001b[0m \u001b[1m24s\u001b[0m 62ms/step - accuracy: 0.8691 - loss: 0.3080 - val_accuracy: 0.8651 - val_loss: 0.3103\n",
            "Epoch 3/10\n",
            "\u001b[1m391/391\u001b[0m \u001b[32m━━━━━━━━━━━━━━━━━━━━\u001b[0m\u001b[37m\u001b[0m \u001b[1m41s\u001b[0m 62ms/step - accuracy: 0.8725 - loss: 0.3015 - val_accuracy: 0.8734 - val_loss: 0.3148\n",
            "Epoch 4/10\n",
            "\u001b[1m391/391\u001b[0m \u001b[32m━━━━━━━━━━━━━━━━━━━━\u001b[0m\u001b[37m\u001b[0m \u001b[1m41s\u001b[0m 63ms/step - accuracy: 0.8728 - loss: 0.3011 - val_accuracy: 0.8526 - val_loss: 0.3341\n",
            "Epoch 5/10\n",
            "\u001b[1m391/391\u001b[0m \u001b[32m━━━━━━━━━━━━━━━━━━━━\u001b[0m\u001b[37m\u001b[0m \u001b[1m40s\u001b[0m 60ms/step - accuracy: 0.8662 - loss: 0.3085 - val_accuracy: 0.8630 - val_loss: 0.3229\n",
            "Epoch 6/10\n",
            "\u001b[1m391/391\u001b[0m \u001b[32m━━━━━━━━━━━━━━━━━━━━\u001b[0m\u001b[37m\u001b[0m \u001b[1m24s\u001b[0m 60ms/step - accuracy: 0.8768 - loss: 0.2933 - val_accuracy: 0.8531 - val_loss: 0.3336\n",
            "Epoch 7/10\n",
            "\u001b[1m391/391\u001b[0m \u001b[32m━━━━━━━━━━━━━━━━━━━━\u001b[0m\u001b[37m\u001b[0m \u001b[1m42s\u001b[0m 62ms/step - accuracy: 0.8797 - loss: 0.2897 - val_accuracy: 0.8651 - val_loss: 0.3178\n",
            "Epoch 8/10\n",
            "\u001b[1m391/391\u001b[0m \u001b[32m━━━━━━━━━━━━━━━━━━━━\u001b[0m\u001b[37m\u001b[0m \u001b[1m23s\u001b[0m 58ms/step - accuracy: 0.8782 - loss: 0.2917 - val_accuracy: 0.8687 - val_loss: 0.3194\n",
            "Epoch 9/10\n",
            "\u001b[1m391/391\u001b[0m \u001b[32m━━━━━━━━━━━━━━━━━━━━\u001b[0m\u001b[37m\u001b[0m \u001b[1m42s\u001b[0m 60ms/step - accuracy: 0.8699 - loss: 0.2957 - val_accuracy: 0.8609 - val_loss: 0.3054\n",
            "Epoch 10/10\n",
            "\u001b[1m391/391\u001b[0m \u001b[32m━━━━━━━━━━━━━━━━━━━━\u001b[0m\u001b[37m\u001b[0m \u001b[1m41s\u001b[0m 60ms/step - accuracy: 0.8752 - loss: 0.2940 - val_accuracy: 0.8651 - val_loss: 0.3231\n"
          ]
        }
      ]
    },
    {
      "cell_type": "markdown",
      "source": [
        "tujuannya untuk :   \n",
        "- Melatih model menggunakan dataset pelatihan (train_dataset) selama 10 epoch.\n",
        "- Mengevaluasi performa model secara berkala menggunakan dataset pengujian (test_dataset) untuk memonitor akurasi dan loss selama pelatihan.\n",
        "- Menyimpan hasil pelatihan (seperti akurasi dan loss) dalam variabel history untuk analisis lebih lanjut."
      ],
      "metadata": {
        "id": "qZQIBSoCJjrc"
      }
    },
    {
      "cell_type": "code",
      "execution_count": 22,
      "metadata": {
        "colab": {
          "base_uri": "https://localhost:8080/"
        },
        "id": "mj83JClna04Y",
        "outputId": "1961a887-e7b4-49e0-b187-a0cffa820b32"
      },
      "outputs": [
        {
          "output_type": "stream",
          "name": "stdout",
          "text": [
            "\u001b[1m391/391\u001b[0m \u001b[32m━━━━━━━━━━━━━━━━━━━━\u001b[0m\u001b[37m\u001b[0m \u001b[1m13s\u001b[0m 33ms/step - accuracy: 0.8620 - loss: 0.3217\n",
            "Test Loss: 0.32216793298721313\n",
            "Test Accuracy: 0.860319972038269\n"
          ]
        }
      ],
      "source": [
        "test_loss, test_acc = model.evaluate(test_dataset)\n",
        "\n",
        "print('Test Loss:', test_loss)\n",
        "print('Test Accuracy:', test_acc)"
      ]
    },
    {
      "cell_type": "markdown",
      "source": [
        "untuk mengevaluasi performa model setelah dilatih, menggunakan dataset pengujian.\n",
        "\n",
        "\n",
        "model.evaluate(test_dataset): Fungsi ini menghitung nilai loss dan metrik (dalam hal ini, akurasi) untuk model berdasarkan dataset pengujian (test_dataset).\n",
        "\n",
        "\n",
        "print('Test Loss:', test_loss): Mencetak nilai loss untuk dataset pengujian.\n",
        "\n",
        "print('Test Accuracy:', test_acc): Mencetak nilai akurasi untuk dataset pengujian."
      ],
      "metadata": {
        "id": "jtK7KoSmJ1DE"
      }
    },
    {
      "cell_type": "code",
      "execution_count": 23,
      "metadata": {
        "colab": {
          "base_uri": "https://localhost:8080/",
          "height": 384
        },
        "id": "2XLFn7jwa4Fk",
        "outputId": "cdc7971b-3153-473b-a612-0206475a1c20"
      },
      "outputs": [
        {
          "output_type": "execute_result",
          "data": {
            "text/plain": [
              "(0.0, 0.3504389077425003)"
            ]
          },
          "metadata": {},
          "execution_count": 23
        },
        {
          "output_type": "display_data",
          "data": {
            "text/plain": [
              "<Figure size 1600x800 with 2 Axes>"
            ],
            "image/png": "[encoded data removed]"
          },
          "metadata": {}
        }
      ],
      "source": [
        "plt.figure(figsize=(16, 8))\n",
        "plt.subplot(1, 2, 1)\n",
        "plot_graphs(history, 'accuracy')\n",
        "plt.ylim(None, 1)\n",
        "plt.subplot(1, 2, 2)\n",
        "plot_graphs(history, 'loss')\n",
        "plt.ylim(0, None)"
      ]
    },
    {
      "cell_type": "markdown",
      "source": [
        "untuk memvisualisasikan performa model selama pelatihan dengan menampilkan dua grafik dalam satu figur"
      ],
      "metadata": {
        "id": "vnte2P0dKI7i"
      }
    },
    {
      "cell_type": "code",
      "source": [
        "import numpy as np\n",
        "import tensorflow as tf\n",
        "\n",
        "sample_text = ('The movie was cool. The animation and the graphics '\n",
        "               'were out of this world. I would recommend this movie.')\n",
        "\n",
        "# Mengonversi teks menjadi tensor\n",
        "sample_tensor = tf.convert_to_tensor([sample_text])\n",
        "\n",
        "# Prediksi menggunakan model\n",
        "predictions = model.predict(sample_tensor)\n",
        "print(predictions[0])"
      ],
      "metadata": {
        "id": "jSkw1jtWDpIY",
        "colab": {
          "base_uri": "https://localhost:8080/"
        },
        "outputId": "e8f9ad3c-305f-4559-80f8-461075080da0"
      },
      "execution_count": 26,
      "outputs": [
        {
          "output_type": "stream",
          "name": "stdout",
          "text": [
            "\u001b[1m1/1\u001b[0m \u001b[32m━━━━━━━━━━━━━━━━━━━━\u001b[0m\u001b[37m\u001b[0m \u001b[1m0s\u001b[0m 252ms/step\n",
            "[0.24091214]\n"
          ]
        }
      ]
    },
    {
      "cell_type": "markdown",
      "source": [
        "Mengambil contoh teks ulasan film, mengonversinya menjadi tensor, dan kemudian menggunakan model pembelajaran mendalam untuk membuat dan mencetak prediksi berdasarkan teks tersebut.\n",
        "\n",
        "- tf.convert_to_tensor([sample_text]): Mengonversi sample_text menjadi tensor TensorFlow.\n",
        "- model.predict(sample_tensor): Menggunakan model yang telah dilatih untuk membuat prediksi berdasarkan sample_tensor.\n",
        "- print(predictions[0]): Mencetak hasil prediksi pertama dari output mode"
      ],
      "metadata": {
        "id": "nzhGTkBHKYjt"
      }
    },
    {
      "cell_type": "markdown",
      "metadata": {
        "id": "UpgMEflTbAgu"
      },
      "source": [
        "## Stack two or more LSTM layers"
      ]
    },
    {
      "cell_type": "code",
      "execution_count": 27,
      "metadata": {
        "id": "5krHmqo9bCiW"
      },
      "outputs": [],
      "source": [
        "model = tf.keras.Sequential([\n",
        "    encoder,\n",
        "    tf.keras.layers.Embedding(len(encoder.get_vocabulary()), 64, mask_zero=True),\n",
        "    tf.keras.layers.Bidirectional(tf.keras.layers.LSTM(64,  return_sequences=True)),\n",
        "    tf.keras.layers.Bidirectional(tf.keras.layers.LSTM(32)),\n",
        "    tf.keras.layers.Dense(64, activation='relu'),\n",
        "    tf.keras.layers.Dropout(0.5),\n",
        "    tf.keras.layers.Dense(1)\n",
        "])"
      ]
    },
    {
      "cell_type": "code",
      "execution_count": 28,
      "metadata": {
        "id": "xjm6KaVlbG27"
      },
      "outputs": [],
      "source": [
        "model.compile(loss=tf.keras.losses.BinaryCrossentropy(from_logits=True),\n",
        "              optimizer=tf.keras.optimizers.Adam(1e-4),\n",
        "              metrics=['accuracy'])"
      ]
    },
    {
      "cell_type": "code",
      "execution_count": 29,
      "metadata": {
        "id": "AqVYro6ubMFK",
        "colab": {
          "base_uri": "https://localhost:8080/"
        },
        "outputId": "b68f0e53-0416-452b-f005-3edffcc46b36"
      },
      "outputs": [
        {
          "output_type": "stream",
          "name": "stdout",
          "text": [
            "Epoch 1/10\n",
            "\u001b[1m391/391\u001b[0m \u001b[32m━━━━━━━━━━━━━━━━━━━━\u001b[0m\u001b[37m\u001b[0m \u001b[1m52s\u001b[0m 119ms/step - accuracy: 0.5209 - loss: 0.6808 - val_accuracy: 0.8026 - val_loss: 0.4572\n",
            "Epoch 2/10\n",
            "\u001b[1m391/391\u001b[0m \u001b[32m━━━━━━━━━━━━━━━━━━━━\u001b[0m\u001b[37m\u001b[0m \u001b[1m41s\u001b[0m 104ms/step - accuracy: 0.8241 - loss: 0.3943 - val_accuracy: 0.8172 - val_loss: 0.3585\n",
            "Epoch 3/10\n",
            "\u001b[1m391/391\u001b[0m \u001b[32m━━━━━━━━━━━━━━━━━━━━\u001b[0m\u001b[37m\u001b[0m \u001b[1m43s\u001b[0m 109ms/step - accuracy: 0.8487 - loss: 0.3505 - val_accuracy: 0.8672 - val_loss: 0.3121\n",
            "Epoch 4/10\n",
            "\u001b[1m391/391\u001b[0m \u001b[32m━━━━━━━━━━━━━━━━━━━━\u001b[0m\u001b[37m\u001b[0m \u001b[1m80s\u001b[0m 104ms/step - accuracy: 0.8570 - loss: 0.3302 - val_accuracy: 0.8490 - val_loss: 0.3325\n",
            "Epoch 5/10\n",
            "\u001b[1m391/391\u001b[0m \u001b[32m━━━━━━━━━━━━━━━━━━━━\u001b[0m\u001b[37m\u001b[0m \u001b[1m41s\u001b[0m 104ms/step - accuracy: 0.8561 - loss: 0.3291 - val_accuracy: 0.8557 - val_loss: 0.3139\n",
            "Epoch 6/10\n",
            "\u001b[1m391/391\u001b[0m \u001b[32m━━━━━━━━━━━━━━━━━━━━\u001b[0m\u001b[37m\u001b[0m \u001b[1m42s\u001b[0m 107ms/step - accuracy: 0.8659 - loss: 0.3106 - val_accuracy: 0.8510 - val_loss: 0.3224\n",
            "Epoch 7/10\n",
            "\u001b[1m391/391\u001b[0m \u001b[32m━━━━━━━━━━━━━━━━━━━━\u001b[0m\u001b[37m\u001b[0m \u001b[1m81s\u001b[0m 104ms/step - accuracy: 0.8679 - loss: 0.3055 - val_accuracy: 0.8344 - val_loss: 0.3288\n",
            "Epoch 8/10\n",
            "\u001b[1m391/391\u001b[0m \u001b[32m━━━━━━━━━━━━━━━━━━━━\u001b[0m\u001b[37m\u001b[0m \u001b[1m42s\u001b[0m 106ms/step - accuracy: 0.8629 - loss: 0.3135 - val_accuracy: 0.8620 - val_loss: 0.3444\n",
            "Epoch 9/10\n",
            "\u001b[1m391/391\u001b[0m \u001b[32m━━━━━━━━━━━━━━━━━━━━\u001b[0m\u001b[37m\u001b[0m \u001b[1m41s\u001b[0m 105ms/step - accuracy: 0.8739 - loss: 0.2982 - val_accuracy: 0.8661 - val_loss: 0.3053\n",
            "Epoch 10/10\n",
            "\u001b[1m391/391\u001b[0m \u001b[32m━━━━━━━━━━━━━━━━━━━━\u001b[0m\u001b[37m\u001b[0m \u001b[1m41s\u001b[0m 104ms/step - accuracy: 0.8725 - loss: 0.2983 - val_accuracy: 0.8328 - val_loss: 0.3332\n"
          ]
        }
      ],
      "source": [
        "history = model.fit(train_dataset, epochs=10,\n",
        "                    validation_data=test_dataset,\n",
        "                    validation_steps=30)"
      ]
    },
    {
      "cell_type": "code",
      "execution_count": 30,
      "metadata": {
        "id": "d8_ZVrJObNDb",
        "colab": {
          "base_uri": "https://localhost:8080/"
        },
        "outputId": "5afd9a7f-81f0-4b40-cb42-22d46d4d8b05"
      },
      "outputs": [
        {
          "output_type": "stream",
          "name": "stdout",
          "text": [
            "\u001b[1m391/391\u001b[0m \u001b[32m━━━━━━━━━━━━━━━━━━━━\u001b[0m\u001b[37m\u001b[0m \u001b[1m22s\u001b[0m 57ms/step - accuracy: 0.8400 - loss: 0.3276\n",
            "Test Loss: 0.32740071415901184\n",
            "Test Accuracy: 0.8392400145530701\n"
          ]
        }
      ],
      "source": [
        "test_loss, test_acc = model.evaluate(test_dataset)\n",
        "\n",
        "print('Test Loss:', test_loss)\n",
        "print('Test Accuracy:', test_acc)"
      ]
    },
    {
      "cell_type": "code",
      "execution_count": 32,
      "metadata": {
        "id": "Ih5GOgx5bRYa",
        "colab": {
          "base_uri": "https://localhost:8080/"
        },
        "outputId": "47aa4ee0-241c-4349-8344-07a608d47116"
      },
      "outputs": [
        {
          "output_type": "stream",
          "name": "stdout",
          "text": [
            "\u001b[1m1/1\u001b[0m \u001b[32m━━━━━━━━━━━━━━━━━━━━\u001b[0m\u001b[37m\u001b[0m \u001b[1m1s\u001b[0m 1s/step\n",
            "[[-2.2565567]]\n"
          ]
        }
      ],
      "source": [
        "import numpy as np\n",
        "import tensorflow as tf\n",
        "\n",
        "sample_text = ('The movie was not good. The animation and the graphics '\n",
        "                'were terrible. I would not recommend this movie.')\n",
        "\n",
        "# Mengonversi teks menjadi tensor\n",
        "sample_tensor = tf.convert_to_tensor([sample_text])\n",
        "\n",
        "# Prediksi menggunakan model\n",
        "predictions = model.predict(sample_tensor)\n",
        "print(predictions)"
      ]
    },
    {
      "cell_type": "code",
      "execution_count": 33,
      "metadata": {
        "id": "TiBJvXMAbWkv",
        "colab": {
          "base_uri": "https://localhost:8080/",
          "height": 285
        },
        "outputId": "81b5d5c2-e04d-4f11-ee53-569d226e8607"
      },
      "outputs": [
        {
          "output_type": "display_data",
          "data": {
            "text/plain": [
              "<Figure size 1600x600 with 2 Axes>"
            ],
            "image/png": "[encoded data removed]"
          },
          "metadata": {}
        }
      ],
      "source": [
        "plt.figure(figsize=(16, 6))\n",
        "plt.subplot(1, 2, 1)\n",
        "plot_graphs(history, 'accuracy')\n",
        "plt.subplot(1, 2, 2)\n",
        "plot_graphs(history, 'loss')"
      ]
    },
    {
      "cell_type": "markdown",
      "metadata": {
        "id": "IrenI5lmxEKq"
      },
      "source": [
        "#**PRAKTIKUM 2**\n",
        "\n",
        "\n",
        "---\n",
        "\n",
        "Generator Teks dengan RNN\n"
      ]
    },
    {
      "cell_type": "markdown",
      "metadata": {
        "id": "t61RzkWq00za"
      },
      "source": [
        "**Setup**"
      ]
    },
    {
      "cell_type": "markdown",
      "metadata": {
        "id": "zailPcdG09Mq"
      },
      "source": [
        "Import TensorFlow"
      ]
    },
    {
      "cell_type": "code",
      "execution_count": null,
      "metadata": {
        "id": "-F5bKYTDxREV"
      },
      "outputs": [],
      "source": [
        "import tensorflow as tf\n",
        "import numpy as np\n",
        "import os\n",
        "import time"
      ]
    },
    {
      "cell_type": "code",
      "execution_count": null,
      "metadata": {
        "colab": {
          "base_uri": "https://localhost:8080/"
        },
        "id": "GREr1nNz1XXC",
        "outputId": "e54245a0-1ddb-473e-9a10-489a7a4b0fa4"
      },
      "outputs": [
        {
          "output_type": "stream",
          "name": "stdout",
          "text": [
            "Downloading data from https://storage.googleapis.com/download.tensorflow.org/data/shakespeare.txt\n",
            "\u001b[1m1115394/1115394\u001b[0m \u001b[32m━━━━━━━━━━━━━━━━━━━━\u001b[0m\u001b[37m\u001b[0m \u001b[1m1s\u001b[0m 0us/step\n"
          ]
        }
      ],
      "source": [
        "path_to_file = tf.keras.utils.get_file(\n",
        "    'shakespeare.txt',  # This should be the filename you want to save it as\n",
        "    origin='https://storage.googleapis.com/download.tensorflow.org/data/shakespeare.txt'  # This is the URL of the file\n",
        ")"
      ]
    },
    {
      "cell_type": "markdown",
      "metadata": {
        "id": "M-0RLeXN12wG"
      },
      "source": [
        "Load Data"
      ]
    },
    {
      "cell_type": "code",
      "execution_count": null,
      "metadata": {
        "colab": {
          "base_uri": "https://localhost:8080/"
        },
        "id": "0dm7AwhI14cQ",
        "outputId": "d71ade1c-63b9-4db2-bc1e-0cb766f895d5"
      },
      "outputs": [
        {
          "output_type": "stream",
          "name": "stdout",
          "text": [
            "Length of text: 1115394 characters\n"
          ]
        }
      ],
      "source": [
        "# Read, then decode for py2 compat.\n",
        "text = open(path_to_file, 'rb').read().decode(encoding='utf-8')\n",
        "# length of text is the number of characters in it\n",
        "print(f'Length of text: {len(text)} characters')"
      ]
    },
    {
      "cell_type": "code",
      "execution_count": null,
      "metadata": {
        "colab": {
          "base_uri": "https://localhost:8080/"
        },
        "id": "4P3yD6bl16ru",
        "outputId": "5a432f6b-6d1c-417e-b9c2-6bc9d1c1d848"
      },
      "outputs": [
        {
          "output_type": "stream",
          "name": "stdout",
          "text": [
            "First Citizen:\n",
            "Before we proceed any further, hear me speak.\n",
            "\n",
            "All:\n",
            "Speak, speak.\n",
            "\n",
            "First Citizen:\n",
            "You are all resolved rather to die than to famish?\n",
            "\n",
            "All:\n",
            "Resolved. resolved.\n",
            "\n",
            "First Citizen:\n",
            "First, you know Caius Marcius is chief enemy to the people.\n",
            "\n"
          ]
        }
      ],
      "source": [
        "# Take a look at the first 250 characters in text\n",
        "print(text[:250])"
      ]
    },
    {
      "cell_type": "code",
      "execution_count": null,
      "metadata": {
        "colab": {
          "base_uri": "https://localhost:8080/"
        },
        "id": "ONWEQ69g1-TL",
        "outputId": "dd338e18-d440-4a3c-eeac-5217262c9fc2"
      },
      "outputs": [
        {
          "output_type": "stream",
          "name": "stdout",
          "text": [
            "65 unique characters\n"
          ]
        }
      ],
      "source": [
        "# The unique characters in the file\n",
        "vocab = sorted(set(text))\n",
        "print(f'{len(vocab)} unique characters')"
      ]
    },
    {
      "cell_type": "markdown",
      "metadata": {
        "id": "sYcO2h112CP2"
      },
      "source": [
        "**Olah Teks**"
      ]
    },
    {
      "cell_type": "markdown",
      "metadata": {
        "id": "ldvAm85A2FhL"
      },
      "source": [
        "Vectorize Teks\n"
      ]
    },
    {
      "cell_type": "code",
      "execution_count": null,
      "metadata": {
        "colab": {
          "base_uri": "https://localhost:8080/"
        },
        "id": "MZ2CWFh52J6I",
        "outputId": "61cc40a3-c8e2-422c-fc79-15dc8a578329"
      },
      "outputs": [
        {
          "output_type": "execute_result",
          "data": {
            "text/plain": [
              "<tf.RaggedTensor [[b'a', b'b', b'c', b'd', b'e', b'f', b'g'], [b'x', b'y', b'z']]>"
            ]
          },
          "metadata": {},
          "execution_count": 6
        }
      ],
      "source": [
        "example_texts=['abcdefg', 'xyz']\n",
        "chars = tf.strings.unicode_split(example_texts, input_encoding='UTF-8')\n",
        "chars"
      ]
    },
    {
      "cell_type": "code",
      "execution_count": null,
      "metadata": {
        "id": "uNn2U4Jl3Nog"
      },
      "outputs": [],
      "source": [
        "ids_from_chars = tf.keras.layers.StringLookup(\n",
        "vocabulary=list(vocab), mask_token=None)"
      ]
    },
    {
      "cell_type": "code",
      "execution_count": null,
      "metadata": {
        "colab": {
          "base_uri": "https://localhost:8080/"
        },
        "id": "RwrVFAoQ3Zjk",
        "outputId": "2a01db86-6528-483d-b947-e2fa522d4177"
      },
      "outputs": [
        {
          "output_type": "execute_result",
          "data": {
            "text/plain": [
              "<tf.RaggedTensor [[40, 41, 42, 43, 44, 45, 46], [63, 64, 65]]>"
            ]
          },
          "metadata": {},
          "execution_count": 8
        }
      ],
      "source": [
        "ids = ids_from_chars(chars)\n",
        "ids"
      ]
    },
    {
      "cell_type": "code",
      "execution_count": null,
      "metadata": {
        "id": "e0Hzd5zJ3pb-"
      },
      "outputs": [],
      "source": [
        "chars_from_ids = tf.keras.layers.StringLookup(\n",
        "    vocabulary=ids_from_chars.get_vocabulary(), invert=True, mask_token=None)"
      ]
    },
    {
      "cell_type": "code",
      "execution_count": null,
      "metadata": {
        "colab": {
          "base_uri": "https://localhost:8080/"
        },
        "id": "M3YN9FP53sKh",
        "outputId": "53c8f8de-c135-462f-e96f-41b1cbd0833b"
      },
      "outputs": [
        {
          "output_type": "execute_result",
          "data": {
            "text/plain": [
              "<tf.RaggedTensor [[b'a', b'b', b'c', b'd', b'e', b'f', b'g'], [b'x', b'y', b'z']]>"
            ]
          },
          "metadata": {},
          "execution_count": 10
        }
      ],
      "source": [
        "chars = chars_from_ids(ids)\n",
        "chars"
      ]
    },
    {
      "cell_type": "code",
      "execution_count": null,
      "metadata": {
        "colab": {
          "base_uri": "https://localhost:8080/"
        },
        "id": "EIrKLqWf3yHk",
        "outputId": "06f07c23-be35-4e59-9357-0ead9b8344ee"
      },
      "outputs": [
        {
          "output_type": "execute_result",
          "data": {
            "text/plain": [
              "array([b'abcdefg', b'xyz'], dtype=object)"
            ]
          },
          "metadata": {},
          "execution_count": 11
        }
      ],
      "source": [
        "tf.strings.reduce_join(chars, axis=-1).numpy()"
      ]
    },
    {
      "cell_type": "code",
      "execution_count": null,
      "metadata": {
        "id": "yf35oK_H34CZ"
      },
      "outputs": [],
      "source": [
        "def text_from_ids(ids):\n",
        "    return tf.strings.reduce_join(chars_from_ids(ids), axis=-1)"
      ]
    },
    {
      "cell_type": "code",
      "execution_count": null,
      "metadata": {
        "colab": {
          "base_uri": "https://localhost:8080/"
        },
        "id": "E_kmjuyU4A3g",
        "outputId": "efca59af-6512-4c33-c74f-738939e91b46"
      },
      "outputs": [
        {
          "output_type": "execute_result",
          "data": {
            "text/plain": [
              "<tf.Tensor: shape=(1115394,), dtype=int64, numpy=array([19, 48, 57, ..., 46,  9,  1])>"
            ]
          },
          "metadata": {},
          "execution_count": 13
        }
      ],
      "source": [
        "all_ids = ids_from_chars(tf.strings.unicode_split(text, 'UTF-8'))\n",
        "all_ids"
      ]
    },
    {
      "cell_type": "code",
      "execution_count": null,
      "metadata": {
        "id": "MpunGQQZ4EcE"
      },
      "outputs": [],
      "source": [
        "ids_dataset = tf.data.Dataset.from_tensor_slices(all_ids)"
      ]
    },
    {
      "cell_type": "code",
      "execution_count": null,
      "metadata": {
        "colab": {
          "base_uri": "https://localhost:8080/"
        },
        "id": "lm29uL024Hbf",
        "outputId": "a0d274fd-d103-41d8-f9dc-9b25dd38823c"
      },
      "outputs": [
        {
          "output_type": "stream",
          "name": "stdout",
          "text": [
            "F\n",
            "i\n",
            "r\n",
            "s\n",
            "t\n",
            " \n",
            "C\n",
            "i\n",
            "t\n",
            "i\n"
          ]
        }
      ],
      "source": [
        "for ids in ids_dataset.take(10):\n",
        "    print(chars_from_ids(ids).numpy().decode('utf-8'))"
      ]
    },
    {
      "cell_type": "code",
      "execution_count": null,
      "metadata": {
        "id": "CvKyejBN4Moz"
      },
      "outputs": [],
      "source": [
        "seq_length = 100"
      ]
    },
    {
      "cell_type": "code",
      "execution_count": null,
      "metadata": {
        "colab": {
          "base_uri": "https://localhost:8080/"
        },
        "id": "BM-rkbbx4O6S",
        "outputId": "3cb03b29-f0d5-4164-8358-146fddef1551"
      },
      "outputs": [
        {
          "output_type": "stream",
          "name": "stdout",
          "text": [
            "tf.Tensor(\n",
            "[b'F' b'i' b'r' b's' b't' b' ' b'C' b'i' b't' b'i' b'z' b'e' b'n' b':'\n",
            " b'\\n' b'B' b'e' b'f' b'o' b'r' b'e' b' ' b'w' b'e' b' ' b'p' b'r' b'o'\n",
            " b'c' b'e' b'e' b'd' b' ' b'a' b'n' b'y' b' ' b'f' b'u' b'r' b't' b'h'\n",
            " b'e' b'r' b',' b' ' b'h' b'e' b'a' b'r' b' ' b'm' b'e' b' ' b's' b'p'\n",
            " b'e' b'a' b'k' b'.' b'\\n' b'\\n' b'A' b'l' b'l' b':' b'\\n' b'S' b'p' b'e'\n",
            " b'a' b'k' b',' b' ' b's' b'p' b'e' b'a' b'k' b'.' b'\\n' b'\\n' b'F' b'i'\n",
            " b'r' b's' b't' b' ' b'C' b'i' b't' b'i' b'z' b'e' b'n' b':' b'\\n' b'Y'\n",
            " b'o' b'u' b' '], shape=(101,), dtype=string)\n"
          ]
        }
      ],
      "source": [
        "sequences = ids_dataset.batch(seq_length+1, drop_remainder=True)\n",
        "\n",
        "for seq in sequences.take(1):\n",
        "  print(chars_from_ids(seq))"
      ]
    },
    {
      "cell_type": "code",
      "execution_count": null,
      "metadata": {
        "colab": {
          "base_uri": "https://localhost:8080/"
        },
        "id": "1cth2MBg4SBD",
        "outputId": "bf0f67bf-5b11-4fdc-fe8f-f163f5721879"
      },
      "outputs": [
        {
          "output_type": "stream",
          "name": "stdout",
          "text": [
            "b'First Citizen:\\nBefore we proceed any further, hear me speak.\\n\\nAll:\\nSpeak, speak.\\n\\nFirst Citizen:\\nYou '\n",
            "b'are all resolved rather to die than to famish?\\n\\nAll:\\nResolved. resolved.\\n\\nFirst Citizen:\\nFirst, you k'\n",
            "b\"now Caius Marcius is chief enemy to the people.\\n\\nAll:\\nWe know't, we know't.\\n\\nFirst Citizen:\\nLet us ki\"\n",
            "b\"ll him, and we'll have corn at our own price.\\nIs't a verdict?\\n\\nAll:\\nNo more talking on't; let it be d\"\n",
            "b'one: away, away!\\n\\nSecond Citizen:\\nOne word, good citizens.\\n\\nFirst Citizen:\\nWe are accounted poor citi'\n"
          ]
        }
      ],
      "source": [
        "for seq in sequences.take(5):\n",
        "    print(text_from_ids(seq).numpy())"
      ]
    },
    {
      "cell_type": "code",
      "execution_count": null,
      "metadata": {
        "id": "DW_h0szF4WF5"
      },
      "outputs": [],
      "source": [
        "def split_input_target(sequence):\n",
        "    input_text = sequence[:-1]\n",
        "    target_text = sequence[1:]\n",
        "    return input_text, target_text"
      ]
    },
    {
      "cell_type": "code",
      "execution_count": null,
      "metadata": {
        "colab": {
          "base_uri": "https://localhost:8080/"
        },
        "id": "QOdD8LNj4XHQ",
        "outputId": "ca54101c-3fb9-4dcd-8f23-1fb6511dc8ee"
      },
      "outputs": [
        {
          "output_type": "execute_result",
          "data": {
            "text/plain": [
              "(['T', 'e', 'n', 's', 'o', 'r', 'f', 'l', 'o'],\n",
              " ['e', 'n', 's', 'o', 'r', 'f', 'l', 'o', 'w'])"
            ]
          },
          "metadata": {},
          "execution_count": 20
        }
      ],
      "source": [
        "split_input_target(list(\"Tensorflow\"))"
      ]
    },
    {
      "cell_type": "code",
      "execution_count": null,
      "metadata": {
        "id": "Jprz49GW4ad0"
      },
      "outputs": [],
      "source": [
        "dataset = sequences.map(split_input_target)"
      ]
    },
    {
      "cell_type": "code",
      "execution_count": null,
      "metadata": {
        "colab": {
          "base_uri": "https://localhost:8080/"
        },
        "id": "umKB0CJ34eeK",
        "outputId": "b26aa26b-7464-4544-c711-44dc2e5e9fd3"
      },
      "outputs": [
        {
          "output_type": "stream",
          "name": "stdout",
          "text": [
            "Input : b'First Citizen:\\nBefore we proceed any further, hear me speak.\\n\\nAll:\\nSpeak, speak.\\n\\nFirst Citizen:\\nYou'\n",
            "Target: b'irst Citizen:\\nBefore we proceed any further, hear me speak.\\n\\nAll:\\nSpeak, speak.\\n\\nFirst Citizen:\\nYou '\n"
          ]
        }
      ],
      "source": [
        "for input_example, target_example in dataset.take(1):\n",
        "    print(\"Input :\", text_from_ids(input_example).numpy())\n",
        "    print(\"Target:\", text_from_ids(target_example).numpy())"
      ]
    },
    {
      "cell_type": "markdown",
      "metadata": {
        "id": "ojo0kPQ64i3Q"
      },
      "source": [
        "**Membuat Batch Training**"
      ]
    },
    {
      "cell_type": "code",
      "execution_count": null,
      "metadata": {
        "colab": {
          "base_uri": "https://localhost:8080/"
        },
        "id": "2AvzKk_P4o9z",
        "outputId": "7317a4b1-6708-4436-c89e-7d7c321000be"
      },
      "outputs": [
        {
          "output_type": "execute_result",
          "data": {
            "text/plain": [
              "<_PrefetchDataset element_spec=(TensorSpec(shape=(64, 100), dtype=tf.int64, name=None), TensorSpec(shape=(64, 100), dtype=tf.int64, name=None))>"
            ]
          },
          "metadata": {},
          "execution_count": 23
        }
      ],
      "source": [
        "# Batch size\n",
        "BATCH_SIZE = 64\n",
        "\n",
        "# Buffer size to shuffle the dataset\n",
        "# (TF data is designed to work with possibly infinite sequences,\n",
        "# so it doesn't attempt to shuffle the entire sequence in memory. Instead,\n",
        "# it maintains a buffer in which it shuffles elements).\n",
        "BUFFER_SIZE = 10000\n",
        "\n",
        "dataset = (\n",
        "    dataset\n",
        "    .shuffle(BUFFER_SIZE)\n",
        "    .batch(BATCH_SIZE, drop_remainder=True)\n",
        "    .prefetch(tf.data.experimental.AUTOTUNE))\n",
        "\n",
        "dataset"
      ]
    },
    {
      "cell_type": "markdown",
      "metadata": {
        "id": "embYuc_j6YUl"
      },
      "source": [
        "### **Buat Model**"
      ]
    },
    {
      "cell_type": "code",
      "execution_count": null,
      "metadata": {
        "id": "iLhhX8J06dAu"
      },
      "outputs": [],
      "source": [
        "# Length of the vocabulary in StringLookup Layer\n",
        "vocab_size = len(ids_from_chars.get_vocabulary())\n",
        "\n",
        "# The embedding dimension\n",
        "embedding_dim = 256\n",
        "\n",
        "# Number of RNN units\n",
        "rnn_units = 1024"
      ]
    },
    {
      "cell_type": "code",
      "execution_count": null,
      "metadata": {
        "id": "4fCxKSd16i9H"
      },
      "outputs": [],
      "source": [
        "class MyModel(tf.keras.Model):\n",
        "  def __init__(self, vocab_size, embedding_dim, rnn_units):\n",
        "    super().__init__()\n",
        "    self.embedding = tf.keras.layers.Embedding(vocab_size, embedding_dim)\n",
        "    self.gru = tf.keras.layers.GRU(rnn_units,\n",
        "                                   return_sequences=True,\n",
        "                                   return_state=True)\n",
        "    self.dense = tf.keras.layers.Dense(vocab_size)\n",
        "\n",
        "  def call(self, inputs, states=None, return_state=False, training=False):\n",
        "    x = inputs\n",
        "    x = self.embedding(x, training=training)\n",
        "    if states is None:\n",
        "      # Fix: Initialize the state with the correct shape using tf.zeros\n",
        "      batch_size = tf.shape(x)[0]\n",
        "      states = tf.zeros([batch_size, self.gru.units], dtype=tf.float32) # Initialize with zeros and correct shape\n",
        "\n",
        "    x, states = self.gru(x, initial_state=states, training=training)\n",
        "    x = self.dense(x, training=training)\n",
        "\n",
        "    if return_state:\n",
        "      return x, states\n",
        "    else:\n",
        "      return x"
      ]
    },
    {
      "cell_type": "code",
      "execution_count": null,
      "metadata": {
        "id": "S2mxncXk6lDU"
      },
      "outputs": [],
      "source": [
        "model = MyModel(\n",
        "    vocab_size=vocab_size,\n",
        "    embedding_dim=embedding_dim,\n",
        "    rnn_units=rnn_units)"
      ]
    },
    {
      "cell_type": "markdown",
      "metadata": {
        "id": "Y6qkTVQQ64IC"
      },
      "source": [
        "### **Uji Model**"
      ]
    },
    {
      "cell_type": "code",
      "execution_count": null,
      "metadata": {
        "colab": {
          "base_uri": "https://localhost:8080/"
        },
        "id": "yaEGcONg7AyP",
        "outputId": "01b99d22-c074-4c17-a11c-f3bb9791365d"
      },
      "outputs": [
        {
          "output_type": "stream",
          "name": "stdout",
          "text": [
            "(64, 100, 66) # (batch_size, sequence_length, vocab_size)\n"
          ]
        }
      ],
      "source": [
        "for input_example_batch, target_example_batch in dataset.take(1):\n",
        "    example_batch_predictions = model(input_example_batch)\n",
        "    print(example_batch_predictions.shape, \"# (batch_size, sequence_length, vocab_size)\")"
      ]
    },
    {
      "cell_type": "code",
      "execution_count": null,
      "metadata": {
        "colab": {
          "base_uri": "https://localhost:8080/",
          "height": 245
        },
        "id": "WfjGx2ip8YzW",
        "outputId": "306b7145-35f0-4df5-cff4-4518b87687e7"
      },
      "outputs": [
        {
          "output_type": "display_data",
          "data": {
            "text/plain": [
              "\u001b[1mModel: \"my_model\"\u001b[0m\n"
            ],
            "text/html": [
              "<pre style=\"white-space:pre;overflow-x:auto;line-height:normal;font-family:Menlo,'DejaVu Sans Mono',consolas,'Courier New',monospace\"><span style=\"font-weight: bold\">Model: \"my_model\"</span>\n",
              "</pre>\n"
            ]
          },
          "metadata": {}
        },
        {
          "output_type": "display_data",
          "data": {
            "text/plain": [
              "┏━━━━━━━━━━━━━━━━━━━━━━━━━━━━━━━━━━━━━━┳━━━━━━━━━━━━━━━━━━━━━━━━━━━━━┳━━━━━━━━━━━━━━━━━┓\n",
              "┃\u001b[1m \u001b[0m\u001b[1mLayer (type)                        \u001b[0m\u001b[1m \u001b[0m┃\u001b[1m \u001b[0m\u001b[1mOutput Shape               \u001b[0m\u001b[1m \u001b[0m┃\u001b[1m \u001b[0m\u001b[1m        Param #\u001b[0m\u001b[1m \u001b[0m┃\n",
              "┡━━━━━━━━━━━━━━━━━━━━━━━━━━━━━━━━━━━━━━╇━━━━━━━━━━━━━━━━━━━━━━━━━━━━━╇━━━━━━━━━━━━━━━━━┩\n",
              "│ embedding (\u001b[38;5;33mEmbedding\u001b[0m)                │ (\u001b[38;5;34m64\u001b[0m, \u001b[38;5;34m100\u001b[0m, \u001b[38;5;34m256\u001b[0m)              │          \u001b[38;5;34m16,896\u001b[0m │\n",
              "├──────────────────────────────────────┼─────────────────────────────┼─────────────────┤\n",
              "│ gru (\u001b[38;5;33mGRU\u001b[0m)                            │ ((\u001b[38;5;34m64\u001b[0m, \u001b[38;5;34m100\u001b[0m, \u001b[38;5;34m1024\u001b[0m), (\u001b[38;5;34m64\u001b[0m,      │       \u001b[38;5;34m3,938,304\u001b[0m │\n",
              "│                                      │ \u001b[38;5;34m1024\u001b[0m))                      │                 │\n",
              "├──────────────────────────────────────┼─────────────────────────────┼─────────────────┤\n",
              "│ dense (\u001b[38;5;33mDense\u001b[0m)                        │ (\u001b[38;5;34m64\u001b[0m, \u001b[38;5;34m100\u001b[0m, \u001b[38;5;34m66\u001b[0m)               │          \u001b[38;5;34m67,650\u001b[0m │\n",
              "└──────────────────────────────────────┴─────────────────────────────┴─────────────────┘\n"
            ],
            "text/html": [
              "<pre style=\"white-space:pre;overflow-x:auto;line-height:normal;font-family:Menlo,'DejaVu Sans Mono',consolas,'Courier New',monospace\">┏━━━━━━━━━━━━━━━━━━━━━━━━━━━━━━━━━━━━━━┳━━━━━━━━━━━━━━━━━━━━━━━━━━━━━┳━━━━━━━━━━━━━━━━━┓\n",
              "┃<span style=\"font-weight: bold\"> Layer (type)                         </span>┃<span style=\"font-weight: bold\"> Output Shape                </span>┃<span style=\"font-weight: bold\">         Param # </span>┃\n",
              "┡━━━━━━━━━━━━━━━━━━━━━━━━━━━━━━━━━━━━━━╇━━━━━━━━━━━━━━━━━━━━━━━━━━━━━╇━━━━━━━━━━━━━━━━━┩\n",
              "│ embedding (<span style=\"color: #0087ff; text-decoration-color: #0087ff\">Embedding</span>)                │ (<span style=\"color: #00af00; text-decoration-color: #00af00\">64</span>, <span style=\"color: #00af00; text-decoration-color: #00af00\">100</span>, <span style=\"color: #00af00; text-decoration-color: #00af00\">256</span>)              │          <span style=\"color: #00af00; text-decoration-color: #00af00\">16,896</span> │\n",
              "├──────────────────────────────────────┼─────────────────────────────┼─────────────────┤\n",
              "│ gru (<span style=\"color: #0087ff; text-decoration-color: #0087ff\">GRU</span>)                            │ ((<span style=\"color: #00af00; text-decoration-color: #00af00\">64</span>, <span style=\"color: #00af00; text-decoration-color: #00af00\">100</span>, <span style=\"color: #00af00; text-decoration-color: #00af00\">1024</span>), (<span style=\"color: #00af00; text-decoration-color: #00af00\">64</span>,      │       <span style=\"color: #00af00; text-decoration-color: #00af00\">3,938,304</span> │\n",
              "│                                      │ <span style=\"color: #00af00; text-decoration-color: #00af00\">1024</span>))                      │                 │\n",
              "├──────────────────────────────────────┼─────────────────────────────┼─────────────────┤\n",
              "│ dense (<span style=\"color: #0087ff; text-decoration-color: #0087ff\">Dense</span>)                        │ (<span style=\"color: #00af00; text-decoration-color: #00af00\">64</span>, <span style=\"color: #00af00; text-decoration-color: #00af00\">100</span>, <span style=\"color: #00af00; text-decoration-color: #00af00\">66</span>)               │          <span style=\"color: #00af00; text-decoration-color: #00af00\">67,650</span> │\n",
              "└──────────────────────────────────────┴─────────────────────────────┴─────────────────┘\n",
              "</pre>\n"
            ]
          },
          "metadata": {}
        },
        {
          "output_type": "display_data",
          "data": {
            "text/plain": [
              "\u001b[1m Total params: \u001b[0m\u001b[38;5;34m4,022,850\u001b[0m (15.35 MB)\n"
            ],
            "text/html": [
              "<pre style=\"white-space:pre;overflow-x:auto;line-height:normal;font-family:Menlo,'DejaVu Sans Mono',consolas,'Courier New',monospace\"><span style=\"font-weight: bold\"> Total params: </span><span style=\"color: #00af00; text-decoration-color: #00af00\">4,022,850</span> (15.35 MB)\n",
              "</pre>\n"
            ]
          },
          "metadata": {}
        },
        {
          "output_type": "display_data",
          "data": {
            "text/plain": [
              "\u001b[1m Trainable params: \u001b[0m\u001b[38;5;34m4,022,850\u001b[0m (15.35 MB)\n"
            ],
            "text/html": [
              "<pre style=\"white-space:pre;overflow-x:auto;line-height:normal;font-family:Menlo,'DejaVu Sans Mono',consolas,'Courier New',monospace\"><span style=\"font-weight: bold\"> Trainable params: </span><span style=\"color: #00af00; text-decoration-color: #00af00\">4,022,850</span> (15.35 MB)\n",
              "</pre>\n"
            ]
          },
          "metadata": {}
        },
        {
          "output_type": "display_data",
          "data": {
            "text/plain": [
              "\u001b[1m Non-trainable params: \u001b[0m\u001b[38;5;34m0\u001b[0m (0.00 B)\n"
            ],
            "text/html": [
              "<pre style=\"white-space:pre;overflow-x:auto;line-height:normal;font-family:Menlo,'DejaVu Sans Mono',consolas,'Courier New',monospace\"><span style=\"font-weight: bold\"> Non-trainable params: </span><span style=\"color: #00af00; text-decoration-color: #00af00\">0</span> (0.00 B)\n",
              "</pre>\n"
            ]
          },
          "metadata": {}
        }
      ],
      "source": [
        "model.summary()"
      ]
    },
    {
      "cell_type": "code",
      "execution_count": null,
      "metadata": {
        "id": "kO1yJWXr8as9"
      },
      "outputs": [],
      "source": [
        "sampled_indices = tf.random.categorical(example_batch_predictions[0], num_samples=1)\n",
        "sampled_indices = tf.squeeze(sampled_indices, axis=-1).numpy()"
      ]
    },
    {
      "cell_type": "code",
      "execution_count": null,
      "metadata": {
        "colab": {
          "base_uri": "https://localhost:8080/"
        },
        "id": "EmHMlCAk8qrG",
        "outputId": "0fbc4a97-d78d-4d07-c4b0-c8ed8dd9bbcd"
      },
      "outputs": [
        {
          "output_type": "execute_result",
          "data": {
            "text/plain": [
              "array([ 3,  8, 28, 24, 16, 55, 34, 21,  6,  7, 13, 18, 18, 44, 16, 10, 15,\n",
              "       52,  4, 22, 31, 35,  9, 28, 12, 36,  8, 28, 19, 39, 46, 29, 58, 18,\n",
              "       56, 65, 65, 12, 38, 41, 18,  4, 17, 45, 29, 50, 22, 65,  2, 54, 39,\n",
              "       54, 60, 30, 18, 29, 43, 17, 49, 10,  1, 30,  1, 54, 32, 44, 50, 51,\n",
              "        6, 14, 11, 38, 11, 64, 17,  3, 59, 16, 45, 35, 44, 45, 43, 50, 44,\n",
              "        2, 65, 60, 55, 11, 59, 62, 61, 10, 27, 20,  8, 32,  6, 58])"
            ]
          },
          "metadata": {},
          "execution_count": 30
        }
      ],
      "source": [
        "sampled_indices"
      ]
    },
    {
      "cell_type": "code",
      "execution_count": null,
      "metadata": {
        "colab": {
          "base_uri": "https://localhost:8080/"
        },
        "id": "3lBTjgq98ryp",
        "outputId": "b37b13f2-a782-4480-dd5d-fe6a49052d1e"
      },
      "outputs": [
        {
          "output_type": "stream",
          "name": "stdout",
          "text": [
            "Input:\n",
            " b'\\nmany of us: that we did, we did for the best; and\\nthough we willingly consented to his banishment, '\n",
            "\n",
            "Next Char Predictions:\n",
            " b\"!-OKCpUH',?EEeC3Bm$IRV.O;W-OFZgPsEqzz;YbE$DfPkIz oZouQEPdDj3\\nQ\\noSekl'A:Y:yD!tCfVefdke zup:twv3NG-S's\"\n"
          ]
        }
      ],
      "source": [
        "print(\"Input:\\n\", text_from_ids(input_example_batch[0]).numpy())\n",
        "print()\n",
        "print(\"Next Char Predictions:\\n\", text_from_ids(sampled_indices).numpy())"
      ]
    },
    {
      "cell_type": "markdown",
      "metadata": {
        "id": "w4QbbSxx8xfM"
      },
      "source": [
        "**Train Model**"
      ]
    },
    {
      "cell_type": "markdown",
      "metadata": {
        "id": "X57kqv6b82EY"
      },
      "source": [
        "Tambahan optimizer dan fungsi loss\n"
      ]
    },
    {
      "cell_type": "code",
      "execution_count": null,
      "metadata": {
        "id": "UkxBbBhj8u36"
      },
      "outputs": [],
      "source": [
        "loss = tf.losses.SparseCategoricalCrossentropy(from_logits=True)"
      ]
    },
    {
      "cell_type": "code",
      "execution_count": null,
      "metadata": {
        "colab": {
          "base_uri": "https://localhost:8080/"
        },
        "id": "CBv1skqF86Z6",
        "outputId": "a9cdb2fe-bc6b-470f-975b-13f9fbaa831b"
      },
      "outputs": [
        {
          "output_type": "stream",
          "name": "stdout",
          "text": [
            "Prediction shape:  (64, 100, 66)  # (batch_size, sequence_length, vocab_size)\n",
            "Mean loss:         tf.Tensor(4.1898894, shape=(), dtype=float32)\n"
          ]
        }
      ],
      "source": [
        "example_batch_mean_loss = loss(target_example_batch, example_batch_predictions)\n",
        "print(\"Prediction shape: \", example_batch_predictions.shape, \" # (batch_size, sequence_length, vocab_size)\")\n",
        "print(\"Mean loss:        \", example_batch_mean_loss)"
      ]
    },
    {
      "cell_type": "code",
      "execution_count": null,
      "metadata": {
        "colab": {
          "base_uri": "https://localhost:8080/"
        },
        "id": "Q1y72k7_89iG",
        "outputId": "8a2d502f-5d26-4228-9eb2-082fc3c35c97"
      },
      "outputs": [
        {
          "output_type": "execute_result",
          "data": {
            "text/plain": [
              "66.01549"
            ]
          },
          "metadata": {},
          "execution_count": 34
        }
      ],
      "source": [
        "tf.exp(example_batch_mean_loss).numpy()"
      ]
    },
    {
      "cell_type": "code",
      "execution_count": null,
      "metadata": {
        "id": "G17kqTMM9Pl3"
      },
      "outputs": [],
      "source": [
        "model.compile(optimizer='adam', loss=loss)"
      ]
    },
    {
      "cell_type": "markdown",
      "metadata": {
        "id": "z7Cm31AB9RZr"
      },
      "source": [
        "Konfigurasi Cekpoints"
      ]
    },
    {
      "cell_type": "code",
      "execution_count": null,
      "metadata": {
        "id": "3IPZzF9S9WHE"
      },
      "outputs": [],
      "source": [
        "# Directory where the checkpoints will be saved\n",
        "checkpoint_dir = './training_checkpoints'\n",
        "# Name of the checkpoint files\n",
        "checkpoint_prefix = os.path.join(checkpoint_dir, \"ckpt_{epoch}\")\n",
        "\n",
        "# Add .weights.h5 to the filename\n",
        "checkpoint_prefix += \".weights.h5\"  # This line is the fix\n",
        "\n",
        "checkpoint_callback = tf.keras.callbacks.ModelCheckpoint(\n",
        "    filepath=checkpoint_prefix,\n",
        "    save_weights_only=True)"
      ]
    },
    {
      "cell_type": "markdown",
      "metadata": {
        "id": "wtrynKsV9ig_"
      },
      "source": [
        "Lakukan Proses Training\n"
      ]
    },
    {
      "cell_type": "code",
      "execution_count": null,
      "metadata": {
        "id": "6GV9hriC9j3F"
      },
      "outputs": [],
      "source": [
        "EPOCHS = 20"
      ]
    },
    {
      "cell_type": "code",
      "execution_count": null,
      "metadata": {
        "colab": {
          "base_uri": "https://localhost:8080/",
          "height": 333
        },
        "id": "lTpEe1279niX",
        "outputId": "6ea71e9b-ebae-4c34-e86a-0813f65c48eb"
      },
      "outputs": [
        {
          "output_type": "stream",
          "name": "stdout",
          "text": [
            "Epoch 1/20\n",
            "\u001b[1m 13/172\u001b[0m \u001b[32m━\u001b[0m\u001b[37m━━━━━━━━━━━━━━━━━━━\u001b[0m \u001b[1m15:56\u001b[0m 6s/step - loss: 4.3398"
          ]
        },
        {
          "output_type": "error",
          "ename": "KeyboardInterrupt",
          "evalue": "",
          "traceback": [
            "\u001b[0;31m---------------------------------------------------------------------------\u001b[0m",
            "\u001b[0;31mKeyboardInterrupt\u001b[0m                         Traceback (most recent call last)",
            "\u001b[0;32m<ipython-input-38-25e345c13e8b>\u001b[0m in \u001b[0;36m<cell line: 1>\u001b[0;34m()\u001b[0m\n\u001b[0;32m----> 1\u001b[0;31m \u001b[0mhistory\u001b[0m \u001b[0;34m=\u001b[0m \u001b[0mmodel\u001b[0m\u001b[0;34m.\u001b[0m\u001b[0mfit\u001b[0m\u001b[0;34m(\u001b[0m\u001b[0mdataset\u001b[0m\u001b[0;34m,\u001b[0m \u001b[0mepochs\u001b[0m\u001b[0;34m=\u001b[0m\u001b[0mEPOCHS\u001b[0m\u001b[0;34m,\u001b[0m \u001b[0mcallbacks\u001b[0m\u001b[0;34m=\u001b[0m\u001b[0;34m[\u001b[0m\u001b[0mcheckpoint_callback\u001b[0m\u001b[0;34m]\u001b[0m\u001b[0;34m)\u001b[0m\u001b[0;34m\u001b[0m\u001b[0;34m\u001b[0m\u001b[0m\n\u001b[0m",
            "\u001b[0;32m/usr/local/lib/python3.10/dist-packages/keras/src/utils/traceback_utils.py\u001b[0m in \u001b[0;36merror_handler\u001b[0;34m(*args, **kwargs)\u001b[0m\n\u001b[1;32m    115\u001b[0m         \u001b[0mfiltered_tb\u001b[0m \u001b[0;34m=\u001b[0m \u001b[0;32mNone\u001b[0m\u001b[0;34m\u001b[0m\u001b[0;34m\u001b[0m\u001b[0m\n\u001b[1;32m    116\u001b[0m         \u001b[0;32mtry\u001b[0m\u001b[0;34m:\u001b[0m\u001b[0;34m\u001b[0m\u001b[0;34m\u001b[0m\u001b[0m\n\u001b[0;32m--> 117\u001b[0;31m             \u001b[0;32mreturn\u001b[0m \u001b[0mfn\u001b[0m\u001b[0;34m(\u001b[0m\u001b[0;34m*\u001b[0m\u001b[0margs\u001b[0m\u001b[0;34m,\u001b[0m \u001b[0;34m**\u001b[0m\u001b[0mkwargs\u001b[0m\u001b[0;34m)\u001b[0m\u001b[0;34m\u001b[0m\u001b[0;34m\u001b[0m\u001b[0m\n\u001b[0m\u001b[1;32m    118\u001b[0m         \u001b[0;32mexcept\u001b[0m \u001b[0mException\u001b[0m \u001b[0;32mas\u001b[0m \u001b[0me\u001b[0m\u001b[0;34m:\u001b[0m\u001b[0;34m\u001b[0m\u001b[0;34m\u001b[0m\u001b[0m\n\u001b[1;32m    119\u001b[0m             \u001b[0mfiltered_tb\u001b[0m \u001b[0;34m=\u001b[0m \u001b[0m_process_traceback_frames\u001b[0m\u001b[0;34m(\u001b[0m\u001b[0me\u001b[0m\u001b[0;34m.\u001b[0m\u001b[0m__traceback__\u001b[0m\u001b[0;34m)\u001b[0m\u001b[0;34m\u001b[0m\u001b[0;34m\u001b[0m\u001b[0m\n",
            "\u001b[0;32m/usr/local/lib/python3.10/dist-packages/keras/src/backend/tensorflow/trainer.py\u001b[0m in \u001b[0;36mfit\u001b[0;34m(self, x, y, batch_size, epochs, verbose, callbacks, validation_split, validation_data, shuffle, class_weight, sample_weight, initial_epoch, steps_per_epoch, validation_steps, validation_batch_size, validation_freq)\u001b[0m\n\u001b[1;32m    316\u001b[0m                 \u001b[0;32mfor\u001b[0m \u001b[0mstep\u001b[0m\u001b[0;34m,\u001b[0m \u001b[0miterator\u001b[0m \u001b[0;32min\u001b[0m \u001b[0mepoch_iterator\u001b[0m\u001b[0;34m.\u001b[0m\u001b[0menumerate_epoch\u001b[0m\u001b[0;34m(\u001b[0m\u001b[0;34m)\u001b[0m\u001b[0;34m:\u001b[0m\u001b[0;34m\u001b[0m\u001b[0;34m\u001b[0m\u001b[0m\n\u001b[1;32m    317\u001b[0m                     \u001b[0mcallbacks\u001b[0m\u001b[0;34m.\u001b[0m\u001b[0mon_train_batch_begin\u001b[0m\u001b[0;34m(\u001b[0m\u001b[0mstep\u001b[0m\u001b[0;34m)\u001b[0m\u001b[0;34m\u001b[0m\u001b[0;34m\u001b[0m\u001b[0m\n\u001b[0;32m--> 318\u001b[0;31m                     \u001b[0mlogs\u001b[0m \u001b[0;34m=\u001b[0m \u001b[0mself\u001b[0m\u001b[0;34m.\u001b[0m\u001b[0mtrain_function\u001b[0m\u001b[0;34m(\u001b[0m\u001b[0miterator\u001b[0m\u001b[0;34m)\u001b[0m\u001b[0;34m\u001b[0m\u001b[0;34m\u001b[0m\u001b[0m\n\u001b[0m\u001b[1;32m    319\u001b[0m                     \u001b[0mlogs\u001b[0m \u001b[0;34m=\u001b[0m \u001b[0mself\u001b[0m\u001b[0;34m.\u001b[0m\u001b[0m_pythonify_logs\u001b[0m\u001b[0;34m(\u001b[0m\u001b[0mlogs\u001b[0m\u001b[0;34m)\u001b[0m\u001b[0;34m\u001b[0m\u001b[0;34m\u001b[0m\u001b[0m\n\u001b[1;32m    320\u001b[0m                     \u001b[0mcallbacks\u001b[0m\u001b[0;34m.\u001b[0m\u001b[0mon_train_batch_end\u001b[0m\u001b[0;34m(\u001b[0m\u001b[0mstep\u001b[0m\u001b[0;34m,\u001b[0m \u001b[0mlogs\u001b[0m\u001b[0;34m)\u001b[0m\u001b[0;34m\u001b[0m\u001b[0;34m\u001b[0m\u001b[0m\n",
            "\u001b[0;32m/usr/local/lib/python3.10/dist-packages/tensorflow/python/util/traceback_utils.py\u001b[0m in \u001b[0;36merror_handler\u001b[0;34m(*args, **kwargs)\u001b[0m\n\u001b[1;32m    148\u001b[0m     \u001b[0mfiltered_tb\u001b[0m \u001b[0;34m=\u001b[0m \u001b[0;32mNone\u001b[0m\u001b[0;34m\u001b[0m\u001b[0;34m\u001b[0m\u001b[0m\n\u001b[1;32m    149\u001b[0m     \u001b[0;32mtry\u001b[0m\u001b[0;34m:\u001b[0m\u001b[0;34m\u001b[0m\u001b[0;34m\u001b[0m\u001b[0m\n\u001b[0;32m--> 150\u001b[0;31m       \u001b[0;32mreturn\u001b[0m \u001b[0mfn\u001b[0m\u001b[0;34m(\u001b[0m\u001b[0;34m*\u001b[0m\u001b[0margs\u001b[0m\u001b[0;34m,\u001b[0m \u001b[0;34m**\u001b[0m\u001b[0mkwargs\u001b[0m\u001b[0;34m)\u001b[0m\u001b[0;34m\u001b[0m\u001b[0;34m\u001b[0m\u001b[0m\n\u001b[0m\u001b[1;32m    151\u001b[0m     \u001b[0;32mexcept\u001b[0m \u001b[0mException\u001b[0m \u001b[0;32mas\u001b[0m \u001b[0me\u001b[0m\u001b[0;34m:\u001b[0m\u001b[0;34m\u001b[0m\u001b[0;34m\u001b[0m\u001b[0m\n\u001b[1;32m    152\u001b[0m       \u001b[0mfiltered_tb\u001b[0m \u001b[0;34m=\u001b[0m \u001b[0m_process_traceback_frames\u001b[0m\u001b[0;34m(\u001b[0m\u001b[0me\u001b[0m\u001b[0;34m.\u001b[0m\u001b[0m__traceback__\u001b[0m\u001b[0;34m)\u001b[0m\u001b[0;34m\u001b[0m\u001b[0;34m\u001b[0m\u001b[0m\n",
            "\u001b[0;32m/usr/local/lib/python3.10/dist-packages/tensorflow/python/eager/polymorphic_function/polymorphic_function.py\u001b[0m in \u001b[0;36m__call__\u001b[0;34m(self, *args, **kwds)\u001b[0m\n\u001b[1;32m    831\u001b[0m \u001b[0;34m\u001b[0m\u001b[0m\n\u001b[1;32m    832\u001b[0m       \u001b[0;32mwith\u001b[0m \u001b[0mOptionalXlaContext\u001b[0m\u001b[0;34m(\u001b[0m\u001b[0mself\u001b[0m\u001b[0;34m.\u001b[0m\u001b[0m_jit_compile\u001b[0m\u001b[0;34m)\u001b[0m\u001b[0;34m:\u001b[0m\u001b[0;34m\u001b[0m\u001b[0;34m\u001b[0m\u001b[0m\n\u001b[0;32m--> 833\u001b[0;31m         \u001b[0mresult\u001b[0m \u001b[0;34m=\u001b[0m \u001b[0mself\u001b[0m\u001b[0;34m.\u001b[0m\u001b[0m_call\u001b[0m\u001b[0;34m(\u001b[0m\u001b[0;34m*\u001b[0m\u001b[0margs\u001b[0m\u001b[0;34m,\u001b[0m \u001b[0;34m**\u001b[0m\u001b[0mkwds\u001b[0m\u001b[0;34m)\u001b[0m\u001b[0;34m\u001b[0m\u001b[0;34m\u001b[0m\u001b[0m\n\u001b[0m\u001b[1;32m    834\u001b[0m \u001b[0;34m\u001b[0m\u001b[0m\n\u001b[1;32m    835\u001b[0m       \u001b[0mnew_tracing_count\u001b[0m \u001b[0;34m=\u001b[0m \u001b[0mself\u001b[0m\u001b[0;34m.\u001b[0m\u001b[0mexperimental_get_tracing_count\u001b[0m\u001b[0;34m(\u001b[0m\u001b[0;34m)\u001b[0m\u001b[0;34m\u001b[0m\u001b[0;34m\u001b[0m\u001b[0m\n",
            "\u001b[0;32m/usr/local/lib/python3.10/dist-packages/tensorflow/python/eager/polymorphic_function/polymorphic_function.py\u001b[0m in \u001b[0;36m_call\u001b[0;34m(self, *args, **kwds)\u001b[0m\n\u001b[1;32m    876\u001b[0m       \u001b[0;31m# In this case we have not created variables on the first call. So we can\u001b[0m\u001b[0;34m\u001b[0m\u001b[0;34m\u001b[0m\u001b[0m\n\u001b[1;32m    877\u001b[0m       \u001b[0;31m# run the first trace but we should fail if variables are created.\u001b[0m\u001b[0;34m\u001b[0m\u001b[0;34m\u001b[0m\u001b[0m\n\u001b[0;32m--> 878\u001b[0;31m       results = tracing_compilation.call_function(\n\u001b[0m\u001b[1;32m    879\u001b[0m           \u001b[0margs\u001b[0m\u001b[0;34m,\u001b[0m \u001b[0mkwds\u001b[0m\u001b[0;34m,\u001b[0m \u001b[0mself\u001b[0m\u001b[0;34m.\u001b[0m\u001b[0m_variable_creation_config\u001b[0m\u001b[0;34m\u001b[0m\u001b[0;34m\u001b[0m\u001b[0m\n\u001b[1;32m    880\u001b[0m       )\n",
            "\u001b[0;32m/usr/local/lib/python3.10/dist-packages/tensorflow/python/eager/polymorphic_function/tracing_compilation.py\u001b[0m in \u001b[0;36mcall_function\u001b[0;34m(args, kwargs, tracing_options)\u001b[0m\n\u001b[1;32m    137\u001b[0m   \u001b[0mbound_args\u001b[0m \u001b[0;34m=\u001b[0m \u001b[0mfunction\u001b[0m\u001b[0;34m.\u001b[0m\u001b[0mfunction_type\u001b[0m\u001b[0;34m.\u001b[0m\u001b[0mbind\u001b[0m\u001b[0;34m(\u001b[0m\u001b[0;34m*\u001b[0m\u001b[0margs\u001b[0m\u001b[0;34m,\u001b[0m \u001b[0;34m**\u001b[0m\u001b[0mkwargs\u001b[0m\u001b[0;34m)\u001b[0m\u001b[0;34m\u001b[0m\u001b[0;34m\u001b[0m\u001b[0m\n\u001b[1;32m    138\u001b[0m   \u001b[0mflat_inputs\u001b[0m \u001b[0;34m=\u001b[0m \u001b[0mfunction\u001b[0m\u001b[0;34m.\u001b[0m\u001b[0mfunction_type\u001b[0m\u001b[0;34m.\u001b[0m\u001b[0munpack_inputs\u001b[0m\u001b[0;34m(\u001b[0m\u001b[0mbound_args\u001b[0m\u001b[0;34m)\u001b[0m\u001b[0;34m\u001b[0m\u001b[0;34m\u001b[0m\u001b[0m\n\u001b[0;32m--> 139\u001b[0;31m   return function._call_flat(  # pylint: disable=protected-access\n\u001b[0m\u001b[1;32m    140\u001b[0m       \u001b[0mflat_inputs\u001b[0m\u001b[0;34m,\u001b[0m \u001b[0mcaptured_inputs\u001b[0m\u001b[0;34m=\u001b[0m\u001b[0mfunction\u001b[0m\u001b[0;34m.\u001b[0m\u001b[0mcaptured_inputs\u001b[0m\u001b[0;34m\u001b[0m\u001b[0;34m\u001b[0m\u001b[0m\n\u001b[1;32m    141\u001b[0m   )\n",
            "\u001b[0;32m/usr/local/lib/python3.10/dist-packages/tensorflow/python/eager/polymorphic_function/concrete_function.py\u001b[0m in \u001b[0;36m_call_flat\u001b[0;34m(self, tensor_inputs, captured_inputs)\u001b[0m\n\u001b[1;32m   1320\u001b[0m         and executing_eagerly):\n\u001b[1;32m   1321\u001b[0m       \u001b[0;31m# No tape is watching; skip to running the function.\u001b[0m\u001b[0;34m\u001b[0m\u001b[0;34m\u001b[0m\u001b[0m\n\u001b[0;32m-> 1322\u001b[0;31m       \u001b[0;32mreturn\u001b[0m \u001b[0mself\u001b[0m\u001b[0;34m.\u001b[0m\u001b[0m_inference_function\u001b[0m\u001b[0;34m.\u001b[0m\u001b[0mcall_preflattened\u001b[0m\u001b[0;34m(\u001b[0m\u001b[0margs\u001b[0m\u001b[0;34m)\u001b[0m\u001b[0;34m\u001b[0m\u001b[0;34m\u001b[0m\u001b[0m\n\u001b[0m\u001b[1;32m   1323\u001b[0m     forward_backward = self._select_forward_and_backward_functions(\n\u001b[1;32m   1324\u001b[0m         \u001b[0margs\u001b[0m\u001b[0;34m,\u001b[0m\u001b[0;34m\u001b[0m\u001b[0;34m\u001b[0m\u001b[0m\n",
            "\u001b[0;32m/usr/local/lib/python3.10/dist-packages/tensorflow/python/eager/polymorphic_function/atomic_function.py\u001b[0m in \u001b[0;36mcall_preflattened\u001b[0;34m(self, args)\u001b[0m\n\u001b[1;32m    214\u001b[0m   \u001b[0;32mdef\u001b[0m \u001b[0mcall_preflattened\u001b[0m\u001b[0;34m(\u001b[0m\u001b[0mself\u001b[0m\u001b[0;34m,\u001b[0m \u001b[0margs\u001b[0m\u001b[0;34m:\u001b[0m \u001b[0mSequence\u001b[0m\u001b[0;34m[\u001b[0m\u001b[0mcore\u001b[0m\u001b[0;34m.\u001b[0m\u001b[0mTensor\u001b[0m\u001b[0;34m]\u001b[0m\u001b[0;34m)\u001b[0m \u001b[0;34m->\u001b[0m \u001b[0mAny\u001b[0m\u001b[0;34m:\u001b[0m\u001b[0;34m\u001b[0m\u001b[0;34m\u001b[0m\u001b[0m\n\u001b[1;32m    215\u001b[0m     \u001b[0;34m\"\"\"Calls with flattened tensor inputs and returns the structured output.\"\"\"\u001b[0m\u001b[0;34m\u001b[0m\u001b[0;34m\u001b[0m\u001b[0m\n\u001b[0;32m--> 216\u001b[0;31m     \u001b[0mflat_outputs\u001b[0m \u001b[0;34m=\u001b[0m \u001b[0mself\u001b[0m\u001b[0;34m.\u001b[0m\u001b[0mcall_flat\u001b[0m\u001b[0;34m(\u001b[0m\u001b[0;34m*\u001b[0m\u001b[0margs\u001b[0m\u001b[0;34m)\u001b[0m\u001b[0;34m\u001b[0m\u001b[0;34m\u001b[0m\u001b[0m\n\u001b[0m\u001b[1;32m    217\u001b[0m     \u001b[0;32mreturn\u001b[0m \u001b[0mself\u001b[0m\u001b[0;34m.\u001b[0m\u001b[0mfunction_type\u001b[0m\u001b[0;34m.\u001b[0m\u001b[0mpack_output\u001b[0m\u001b[0;34m(\u001b[0m\u001b[0mflat_outputs\u001b[0m\u001b[0;34m)\u001b[0m\u001b[0;34m\u001b[0m\u001b[0;34m\u001b[0m\u001b[0m\n\u001b[1;32m    218\u001b[0m \u001b[0;34m\u001b[0m\u001b[0m\n",
            "\u001b[0;32m/usr/local/lib/python3.10/dist-packages/tensorflow/python/eager/polymorphic_function/atomic_function.py\u001b[0m in \u001b[0;36mcall_flat\u001b[0;34m(self, *args)\u001b[0m\n\u001b[1;32m    249\u001b[0m         \u001b[0;32mwith\u001b[0m \u001b[0mrecord\u001b[0m\u001b[0;34m.\u001b[0m\u001b[0mstop_recording\u001b[0m\u001b[0;34m(\u001b[0m\u001b[0;34m)\u001b[0m\u001b[0;34m:\u001b[0m\u001b[0;34m\u001b[0m\u001b[0;34m\u001b[0m\u001b[0m\n\u001b[1;32m    250\u001b[0m           \u001b[0;32mif\u001b[0m \u001b[0mself\u001b[0m\u001b[0;34m.\u001b[0m\u001b[0m_bound_context\u001b[0m\u001b[0;34m.\u001b[0m\u001b[0mexecuting_eagerly\u001b[0m\u001b[0;34m(\u001b[0m\u001b[0;34m)\u001b[0m\u001b[0;34m:\u001b[0m\u001b[0;34m\u001b[0m\u001b[0;34m\u001b[0m\u001b[0m\n\u001b[0;32m--> 251\u001b[0;31m             outputs = self._bound_context.call_function(\n\u001b[0m\u001b[1;32m    252\u001b[0m                 \u001b[0mself\u001b[0m\u001b[0;34m.\u001b[0m\u001b[0mname\u001b[0m\u001b[0;34m,\u001b[0m\u001b[0;34m\u001b[0m\u001b[0;34m\u001b[0m\u001b[0m\n\u001b[1;32m    253\u001b[0m                 \u001b[0mlist\u001b[0m\u001b[0;34m(\u001b[0m\u001b[0margs\u001b[0m\u001b[0;34m)\u001b[0m\u001b[0;34m,\u001b[0m\u001b[0;34m\u001b[0m\u001b[0;34m\u001b[0m\u001b[0m\n",
            "\u001b[0;32m/usr/local/lib/python3.10/dist-packages/tensorflow/python/eager/context.py\u001b[0m in \u001b[0;36mcall_function\u001b[0;34m(self, name, tensor_inputs, num_outputs)\u001b[0m\n\u001b[1;32m   1550\u001b[0m     \u001b[0mcancellation_context\u001b[0m \u001b[0;34m=\u001b[0m \u001b[0mcancellation\u001b[0m\u001b[0;34m.\u001b[0m\u001b[0mcontext\u001b[0m\u001b[0;34m(\u001b[0m\u001b[0;34m)\u001b[0m\u001b[0;34m\u001b[0m\u001b[0;34m\u001b[0m\u001b[0m\n\u001b[1;32m   1551\u001b[0m     \u001b[0;32mif\u001b[0m \u001b[0mcancellation_context\u001b[0m \u001b[0;32mis\u001b[0m \u001b[0;32mNone\u001b[0m\u001b[0;34m:\u001b[0m\u001b[0;34m\u001b[0m\u001b[0;34m\u001b[0m\u001b[0m\n\u001b[0;32m-> 1552\u001b[0;31m       outputs = execute.execute(\n\u001b[0m\u001b[1;32m   1553\u001b[0m           \u001b[0mname\u001b[0m\u001b[0;34m.\u001b[0m\u001b[0mdecode\u001b[0m\u001b[0;34m(\u001b[0m\u001b[0;34m\"utf-8\"\u001b[0m\u001b[0;34m)\u001b[0m\u001b[0;34m,\u001b[0m\u001b[0;34m\u001b[0m\u001b[0;34m\u001b[0m\u001b[0m\n\u001b[1;32m   1554\u001b[0m           \u001b[0mnum_outputs\u001b[0m\u001b[0;34m=\u001b[0m\u001b[0mnum_outputs\u001b[0m\u001b[0;34m,\u001b[0m\u001b[0;34m\u001b[0m\u001b[0;34m\u001b[0m\u001b[0m\n",
            "\u001b[0;32m/usr/local/lib/python3.10/dist-packages/tensorflow/python/eager/execute.py\u001b[0m in \u001b[0;36mquick_execute\u001b[0;34m(op_name, num_outputs, inputs, attrs, ctx, name)\u001b[0m\n\u001b[1;32m     51\u001b[0m   \u001b[0;32mtry\u001b[0m\u001b[0;34m:\u001b[0m\u001b[0;34m\u001b[0m\u001b[0;34m\u001b[0m\u001b[0m\n\u001b[1;32m     52\u001b[0m     \u001b[0mctx\u001b[0m\u001b[0;34m.\u001b[0m\u001b[0mensure_initialized\u001b[0m\u001b[0;34m(\u001b[0m\u001b[0;34m)\u001b[0m\u001b[0;34m\u001b[0m\u001b[0;34m\u001b[0m\u001b[0m\n\u001b[0;32m---> 53\u001b[0;31m     tensors = pywrap_tfe.TFE_Py_Execute(ctx._handle, device_name, op_name,\n\u001b[0m\u001b[1;32m     54\u001b[0m                                         inputs, attrs, num_outputs)\n\u001b[1;32m     55\u001b[0m   \u001b[0;32mexcept\u001b[0m \u001b[0mcore\u001b[0m\u001b[0;34m.\u001b[0m\u001b[0m_NotOkStatusException\u001b[0m \u001b[0;32mas\u001b[0m \u001b[0me\u001b[0m\u001b[0;34m:\u001b[0m\u001b[0;34m\u001b[0m\u001b[0;34m\u001b[0m\u001b[0m\n",
            "\u001b[0;31mKeyboardInterrupt\u001b[0m: "
          ]
        }
      ],
      "source": [
        "history = model.fit(dataset, epochs=EPOCHS, callbacks=[checkpoint_callback])"
      ]
    },
    {
      "cell_type": "markdown",
      "metadata": {
        "id": "vDWv6oQg9sgu"
      },
      "source": [
        "### **Generate Teks**"
      ]
    },
    {
      "cell_type": "code",
      "execution_count": null,
      "metadata": {
        "id": "QdSDcUYy9vqH"
      },
      "outputs": [],
      "source": [
        "class OneStep(tf.keras.Model):\n",
        "  def __init__(self, model, chars_from_ids, ids_from_chars, temperature=1.0):\n",
        "    super().__init__()\n",
        "    self.temperature = temperature\n",
        "    self.model = model  # Changed model8 to model\n",
        "    self.chars_from_ids = chars_from_ids\n",
        "    self.ids_from_chars = ids_from_chars\n",
        "\n",
        "    # Create a mask to prevent \"[UNK]\" from being generated.\n",
        "    skip_ids = self.ids_from_chars(['[UNK]'])[:, None]\n",
        "    sparse_mask = tf.SparseTensor(\n",
        "        # Put a -inf at each bad index.\n",
        "        values=[-float('inf')]*len(skip_ids),\n",
        "        indices=skip_ids,\n",
        "        # Match the shape to the vocabulary\n",
        "        dense_shape=[len(ids_from_chars.get_vocabulary())])\n",
        "    self.prediction_mask = tf.sparse.to_dense(sparse_mask)\n",
        "\n",
        "  @tf.function\n",
        "  def generate_one_step(self, inputs, states=None):\n",
        "    # Convert strings to token IDs.\n",
        "    input_chars = tf.strings.unicode_split(inputs, 'UTF-8')\n",
        "    input_ids = self.ids_from_chars(input_chars).to_tensor()\n",
        "\n",
        "    # Run the model.\n",
        "    # predicted_logits.shape is [batch, char, next_char_logits]\n",
        "    predicted_logits, states = self.model(inputs=input_ids, states=states,\n",
        "                                          return_state=True)\n",
        "    # Only use the last prediction.\n",
        "    predicted_logits = predicted_logits[:, -1, :]\n",
        "    predicted_logits = predicted_logits/self.temperature\n",
        "    # Apply the prediction mask: prevent \"[UNK]\" from being generated.\n",
        "    predicted_logits = predicted_logits + self.prediction_mask\n",
        "\n",
        "    # Sample the output logits to generate token IDs.\n",
        "    predicted_ids = tf.random.categorical(predicted_logits, num_samples=1)\n",
        "    predicted_ids = tf.squeeze(predicted_ids, axis=-1)\n",
        "\n",
        "    # Convert from token ids to characters\n",
        "    predicted_chars = self.chars_from_ids(predicted_ids)\n",
        "\n",
        "    # Return the characters and model state.\n",
        "    return predicted_chars, states"
      ]
    },
    {
      "cell_type": "code",
      "execution_count": null,
      "metadata": {
        "id": "zaO5bK9mtAF8"
      },
      "outputs": [],
      "source": [
        "one_step_model = OneStep(model, chars_from_ids, ids_from_chars)"
      ]
    },
    {
      "cell_type": "code",
      "execution_count": null,
      "metadata": {
        "id": "B50K76F4tOX4"
      },
      "outputs": [],
      "source": [
        "start = time.time()\n",
        "states = None\n",
        "next_char = tf.constant(['ROMEO:'])\n",
        "result = [next_char]\n",
        "\n",
        "for n in range(1000):\n",
        "  next_char, states = one_step_model.generate_one_step(next_char, states=states)\n",
        "  result.append(next_char)\n",
        "\n",
        "result = tf.strings.join(result)\n",
        "end = time.time()\n",
        "print(result[0].numpy().decode('utf-8'), '\\n\\n' + '_'*80)\n",
        "print('\\nRun time:', end - start)"
      ]
    },
    {
      "cell_type": "code",
      "execution_count": null,
      "metadata": {
        "id": "cdLBf1xCtUpr"
      },
      "outputs": [],
      "source": [
        "start = time.time()\n",
        "states = None\n",
        "next_char = tf.constant(['ROMEO:', 'ROMEO:', 'ROMEO:', 'ROMEO:', 'ROMEO:'])\n",
        "result = [next_char]\n",
        "\n",
        "for n in range(1000):\n",
        "  next_char, states = one_step_model.generate_one_step(next_char, states=states)\n",
        "  result.append(next_char)\n",
        "\n",
        "result = tf.strings.join(result)\n",
        "end = time.time()\n",
        "print(result, '\\n\\n' + '_'*80)\n",
        "print('\\nRun time:', end - start)"
      ]
    },
    {
      "cell_type": "markdown",
      "metadata": {
        "id": "sK2bFgPStYvI"
      },
      "source": [
        "**Ekspor Model Generator**"
      ]
    },
    {
      "cell_type": "code",
      "execution_count": null,
      "metadata": {
        "id": "3c56qj6gtbai"
      },
      "outputs": [],
      "source": [
        "tf.saved_model.save(one_step_model, 'one_step')\n",
        "one_step_reloaded = tf.saved_model.load('one_step')"
      ]
    },
    {
      "cell_type": "code",
      "execution_count": null,
      "metadata": {
        "id": "mMWnGkXWtecU"
      },
      "outputs": [],
      "source": [
        "states = None\n",
        "next_char = tf.constant(['ROMEO:'])\n",
        "result = [next_char]\n",
        "\n",
        "for n in range(100):\n",
        "  next_char, states = one_step_reloaded.generate_one_step(next_char, states=states)\n",
        "  result.append(next_char)\n",
        "\n",
        "print(tf.strings.join(result)[0].numpy().decode(\"utf-8\"))"
      ]
    },
    {
      "cell_type": "markdown",
      "metadata": {
        "id": "QymDLhiuxRjT"
      },
      "source": [
        "# **TUGAS**"
      ]
    },
    {
      "cell_type": "code",
      "execution_count": null,
      "metadata": {
        "id": "VtyPgH-6xWm8"
      },
      "outputs": [],
      "source": [
        "class CustomTraining(MyModel):\n",
        "  @tf.function\n",
        "  def train_step(self, inputs):\n",
        "      inputs, labels = inputs\n",
        "      with tf.GradientTape() as tape:\n",
        "          predictions = self(inputs, training=True)\n",
        "          loss = self.loss(labels, predictions)\n",
        "      grads = tape.gradient(loss, model.trainable_variables)\n",
        "      self.optimizer.apply_gradients(zip(grads, model.trainable_variables))\n",
        "\n",
        "      return {'loss': loss}"
      ]
    },
    {
      "cell_type": "code",
      "source": [
        "EPOCHS = 10\n",
        "\n",
        "mean = tf.metrics.Mean()\n",
        "\n",
        "for epoch in range(EPOCHS):\n",
        "    start = time.time()\n",
        "\n",
        "    mean.reset_state()\n",
        "    for (batch_n, (inp, target)) in enumerate(dataset):\n",
        "        logs = model.train_step([inp, target])\n",
        "        mean.update_state(logs['loss'])\n",
        "\n",
        "        if batch_n % 50 == 0:\n",
        "            template = f\"Epoch {epoch+1} Batch {batch_n} Loss {logs['loss']:.4f}\"\n",
        "            print(template)\n",
        "\n",
        "    # saving (checkpoint) the model every 5 epochs\n",
        "    if (epoch + 1) % 5 == 0:\n",
        "        model.save_weights(checkpoint_prefix.format(epoch=epoch))\n",
        "\n",
        "    print()\n",
        "    print(f'Epoch {epoch+1} Loss: {mean.result().numpy():.4f}')\n",
        "    print(f'Time taken for 1 epoch {time.time() - start:.2f} sec')\n",
        "    print(\"_\"*80)\n",
        "\n",
        "model.save_weights(checkpoint_prefix.format(epoch=epoch))"
      ],
      "metadata": {
        "id": "crRLNCcjRy7U"
      },
      "execution_count": null,
      "outputs": []
    }
  ],
  "metadata": {
    "colab": {
      "provenance": [],
      "gpuType": "T4",
      "collapsed_sections": [
        "37MqX_aByhBQ",
        "uqkGN6dh0ird",
        "_X_jxksDTsRf",
        "oh2PtzSZanU6",
        "IrenI5lmxEKq",
        "QymDLhiuxRjT"
      ],
      "include_colab_link": true
    },
    "kernelspec": {
      "display_name": "Python 3",
      "name": "python3"
    },
    "language_info": {
      "name": "python"
    },
    "accelerator": "GPU"
  },
  "nbformat": 4,
  "nbformat_minor": 0
}