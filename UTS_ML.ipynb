{
  "cells": [
    {
      "cell_type": "markdown",
      "metadata": {
        "id": "view-in-github",
        "colab_type": "text"
      },
      "source": [
        "<a href=\"https://colab.research.google.com/github/Ratnasari124/Mechine_Learning_Ratnasari/blob/main/UTS_ML.ipynb\" target=\"_parent\"><img src=\"https://colab.research.google.com/assets/colab-badge.svg\" alt=\"Open In Colab\"/></a>"
      ]
    },
    {
      "cell_type": "markdown",
      "metadata": {
        "id": "SvzixTNRskyg"
      },
      "source": [
        "# UJIAN TENGAH SEMESTER 2024-2025\n",
        "# Pembelajaran Mesin\n",
        "\n",
        "## Anggota Kelompok\n",
        "1. Ratnasari (2241720007)\n",
        "2. Muhammad Kemal Nugraha (2241720044)\n",
        "3. Lalu Immaratul Ardhi Ganeru(2241720169)\n",
        "4. Muhammad Ariel Saputra (2241720034)\n",
        "\n",
        "\n",
        "Klasifikasi Neural Network (NN) Pada Data Citra\n",
        "# Intro\n",
        "\n",
        "Pada UTS ini, Anda diminta untuk melakukan klasifikasi citra wajah dengan menggunakan dataset Casia-Webface (Data dapat diunduh pada Kaggle).\n",
        "Anda diperbolehkan melakukan eksplorasi terhadap:\n",
        "1. Metode pra pengolahan\n",
        "2. Pemilihan fitur\n",
        "3. Arsitektur ANN\n",
        "4. Fungsi Aktiviasi\n",
        "5. Metric Evaluasi"
      ]
    },
    {
      "cell_type": "markdown",
      "metadata": {
        "id": "KxVMlWd1skyj"
      },
      "source": [
        "# Preparation"
      ]
    },
    {
      "cell_type": "code",
      "execution_count": null,
      "metadata": {
        "id": "6MWG875Fskyk"
      },
      "outputs": [],
      "source": [
        "'''\n",
        "    Pada bagian ini Anda dapat memasukkan library yang dibutuhkan\n",
        "'''\n",
        "# from google.colab import files\n",
        "import os\n",
        "import cv2\n",
        "import numpy as np\n",
        "import tensorflow as tf\n",
        "from tensorflow.keras.models import Sequential\n",
        "from tensorflow.keras.layers import Conv2D, MaxPooling2D, Flatten, Dense, Dropout\n",
        "import matplotlib.pyplot as plt\n",
        "from sklearn.model_selection import train_test_split"
      ]
    },
    {
      "cell_type": "markdown",
      "metadata": {
        "id": "VOjLWmd3skyl"
      },
      "source": [
        "# Load Data"
      ]
    },
    {
      "cell_type": "code",
      "execution_count": null,
      "metadata": {
        "colab": {
          "base_uri": "https://localhost:8080/"
        },
        "id": "zwp0dtMqOl5D",
        "outputId": "8cc98f69-42eb-4f56-b93a-7ab9aa952412"
      },
      "outputs": [
        {
          "name": "stdout",
          "output_type": "stream",
          "text": [
            "Path to dataset files: C:\\Users\\kuhak\\.cache\\kagglehub\\datasets\\ntl0601\\casia-webface\\versions\\1\n",
            "Image directory 'C:\\Users\\kuhak\\.cache\\kagglehub\\datasets\\ntl0601\\casia-webface\\versions\\1\\images' not found. Verify dataset structure.\n"
          ]
        }
      ],
      "source": [
        "'''\n",
        "    Pada bagian ini Anda dapat memuat dataset Casia-Webface dan visualisasi data.\n",
        "'''\n",
        "import kagglehub\n",
        "\n",
        "# Download the dataset\n",
        "path = kagglehub.dataset_download(\"ntl0601/casia-webface\")\n",
        "print(\"Path to dataset files:\", path)\n",
        "\n",
        "# Define the image directory (adjust this if your dataset structure is different)\n",
        "image_dir = os.path.join(path, 'images')  # Assuming images are in a subdirectory called \"images\"\n",
        "if not os.path.exists(image_dir):\n",
        "    print(f\"Image directory '{image_dir}' not found. Verify dataset structure.\")\n",
        "else:\n",
        "    # Display sample images\n",
        "    sample_images = os.listdir(image_dir)[:5]  # Get the first 5 images\n",
        "\n",
        "    for img_name in sample_images:\n",
        "        img_path = os.path.join(image_dir, img_name)\n",
        "        img = cv2.imread(img_path)\n",
        "\n",
        "        if img is not None:\n",
        "            plt.imshow(cv2.cvtColor(img, cv2.COLOR_BGR2RGB))\n",
        "            plt.title(img_name)\n",
        "            plt.axis('off')  # Hide axes for better view\n",
        "            plt.show()\n",
        "        else:\n",
        "            print(f\"Failed to load image: {img_path}\")\n"
      ]
    },
    {
      "cell_type": "markdown",
      "metadata": {
        "id": "6Oc2d8Beskym"
      },
      "source": [
        "# Preprocessing"
      ]
    },
    {
      "cell_type": "code",
      "execution_count": null,
      "metadata": {
        "id": "FwAbT-mz3-wA",
        "outputId": "acae9cf5-8b46-4095-e1a5-4abfcf578340"
      },
      "outputs": [
        {
          "name": "stdout",
          "output_type": "stream",
          "text": [
            "Total images: (1000, 128, 128, 3)\n",
            "Total labels: (1000,)\n"
          ]
        }
      ],
      "source": [
        "import os\n",
        "import cv2\n",
        "import numpy as np\n",
        "\n",
        "# Tentukan path utama\n",
        "image_dir = r'C:\\Users\\kuhak\\.cache\\kagglehub\\datasets\\ntl0601\\casia-webface\\versions\\1\\casia-webface'\n",
        "img_size = (128, 128)\n",
        "\n",
        "# List untuk menyimpan data dan label\n",
        "images = []\n",
        "labels = []\n",
        "max_images = 1000  # Batasan jumlah gambar\n",
        "count = 0  # Penghitung gambar\n",
        "\n",
        "# Fungsi untuk memuat dan mengolah gambar\n",
        "def preprocess_image(img_path):\n",
        "    img = cv2.imread(img_path)\n",
        "    img = cv2.resize(img, img_size) / 255.0\n",
        "    return img\n",
        "\n",
        "# Iterasi melalui setiap folder dan gambar di dalamnya\n",
        "for label_folder in os.listdir(image_dir):\n",
        "    folder_path = os.path.join(image_dir, label_folder)\n",
        "    if os.path.isdir(folder_path):  # Pastikan ini folder\n",
        "        # Hitung jumlah gambar dalam folder\n",
        "        image_count = sum(1 for img_file in os.listdir(folder_path)\n",
        "                          if img_file.endswith('.jpg') or img_file.endswith('.png'))\n",
        "\n",
        "        # Cek apakah jumlah gambar cukup\n",
        "        if image_count < 100:\n",
        "            continue  # Lewati folder jika kurang dari 100 gambar\n",
        "\n",
        "        for img_file in os.listdir(folder_path):\n",
        "            img_path = os.path.join(folder_path, img_file)\n",
        "            if img_file.endswith('.jpg') or img_file.endswith('.png'):\n",
        "                img = preprocess_image(img_path)\n",
        "                images.append(img)\n",
        "                labels.append(int(label_folder))  # Gunakan nama folder sebagai label\n",
        "                count += 1\n",
        "                if count >= max_images:  # Hentikan jika sudah mencapai batas\n",
        "                    break\n",
        "        if count >= max_images:\n",
        "            break\n",
        "\n",
        "# Konversi ke array numpy\n",
        "images = np.array(images)\n",
        "labels = np.array(labels)\n",
        "print(\"Total images:\", images.shape)\n",
        "print(\"Total labels:\", labels.shape)"
      ]
    },
    {
      "cell_type": "code",
      "execution_count": null,
      "metadata": {
        "id": "KzeDCvTs3-wA",
        "outputId": "f3d86d58-0263-4096-d12d-36ccae3fa3b8"
      },
      "outputs": [
        {
          "name": "stdout",
          "output_type": "stream",
          "text": [
            "4\n",
            "[1 1 1 1 1 1 1 1 1 1 1 1 1 1 1 1 1 1 1 1 1 1 1 1 1 1 1 1 1 1 1 1 1 1 1 1 1\n",
            " 1 1 1 1 1 1 1 1 1 1 1 1 1 1 1 1 1 1 1 1 1 1 1 1 1 1 1 1 1 1 1 1 1 1 1 1 1\n",
            " 1 1 1 1 1 1 1 1 1 1 1 1 1 1 1 1 1 1 1 1 1 1 1 1 1 1 1 1 1 1 1 1 1 1 1 1 1\n",
            " 1 1 1 1 1 1 1 1 1 1 1 1 1 1 1 1 1 1 1 1 1 1 1 1 1 1 1 1 1 1 1 1 1 1 1 1 1\n",
            " 1 1 1 1 1 1 1 1 1 1 1 1 1 1 1 1 1 1 1 1 1 1 1 1 1 1 1 1 1 1 1 1 1 1 1 1 1\n",
            " 1 1 1 1 1 1 1 1 1 1 1 1 1 1 1 1 1 1 1 1 1 1 1 1 1 1 1 1 1 1 1 1 1 1 1 1 1\n",
            " 1 1 1 1 1 1 1 1 1 1 1 1 1 1 1 1 1 1 1 1 1 1 1 1 1 1 1 1 1 1 1 1 1 1 3 3 3\n",
            " 3 3 3 3 3 3 3 3 3 3 3 3 3 3 3 3 3 3 3 3 3 3 3 3 3 3 3 3 3 3 3 3 3 3 3 3 3\n",
            " 3 3 3 3 3 3 3 3 3 3 3 3 3 3 3 3 3 3 3 3 3 3 3 3 3 3 3 3 3 3 3 3 3 3 3 3 3\n",
            " 3 3 3 3 3 3 3 3 3 3 3 3 3 3 3 3 3 3 3 3 3 3 3 3 3 3 3 3 3 3 3 3 3 3 3 3 3\n",
            " 3 3 3 3 3 3 3 3 3 3 3 3 3 3 3 3 3 3 3 3 3 3 3 3 3 3 3 3 3 3 3 3 3 3 3 3 3\n",
            " 3 3 3 3 3 3 3 3 3 3 3 3 3 3 3 3 3 3 3 3 3 3 3 3 3 3 3 3 3 3 3 3 3 3 3 3 3\n",
            " 3 3 3 3 3 3 3 3 3 3 3 3 3 3 3 3 3 3 3 3 3 3 3 3 3 3 3 3 3 3 3 3 3 3 3 3 3\n",
            " 3 3 3 3 3 3 3 3 3 3 3 3 3 3 3 3 3 3 3 3 3 3 3 3 3 3 3 3 3 3 3 3 3 3 3 3 3\n",
            " 3 3 3 3 3 3 3 3 3 3 3 3 3 3 3 3 3 3 3 3 3 3 3 3 3 3 3 3 3 3 3 3 3 3 3 3 3\n",
            " 3 3 3 3 3 3 3 3 3 3 3 3 3 3 3 3 3 3 3 3 3 3 3 3 3 3 3 3 3 3 3 3 3 3 3 3 3\n",
            " 3 3 3 3 3 3 3 3 3 3 3 3 3 3 3 3 3 3 3 3 3 3 3 3 3 3 3 3 3 3 3 3 3 3 3 3 3\n",
            " 3 3 3 3 3 3 3 3 3 3 3 3 3 3 3 3 3 3 3 3 3 3 3 3 3 3 3 3 3 3 3 6 6 6 6 6 6\n",
            " 6 6 6 6 6 6 6 6 6 6 6 6 6 6 6 6 6 6 6 6 6 6 6 6 6 6 6 6 6 6 6 6 6 6 6 6 6\n",
            " 6 6 6 6 6 6 6 6 6 6 6 6 6 6 6 6 6 6 6 6 6 6 6 6 6 6 6 6 6 6 6 6 6 6 6 6 6\n",
            " 6 6 6 6 6 6 6 6 6 6 6 6 6 6 6 6 6 6 6 6 6 6 6 6 6 6 6 6 6 6 6 6 6 6 6 6 6\n",
            " 6 6 6 6 6 6 6 6 6 6 6 6 6 6 6 6 6 6 6 6 8 8 8 8 8 8 8 8 8 8 8 8 8 8 8 8 8\n",
            " 8 8 8 8 8 8 8 8 8 8 8 8 8 8 8 8 8 8 8 8 8 8 8 8 8 8 8 8 8 8 8 8 8 8 8 8 8\n",
            " 8 8 8 8 8 8 8 8 8 8 8 8 8 8 8 8 8 8 8 8 8 8 8 8 8 8 8 8 8 8 8 8 8 8 8 8 8\n",
            " 8 8 8 8 8 8 8 8 8 8 8 8 8 8 8 8 8 8 8 8 8 8 8 8 8 8 8 8 8 8 8 8 8 8 8 8 8\n",
            " 8 8 8 8 8 8 8 8 8 8 8 8 8 8 8 8 8 8 8 8 8 8 8 8 8 8 8 8 8 8 8 8 8 8 8 8 8\n",
            " 8 8 8 8 8 8 8 8 8 8 8 8 8 8 8 8 8 8 8 8 8 8 8 8 8 8 8 8 8 8 8 8 8 8 8 8 8\n",
            " 8]\n"
          ]
        }
      ],
      "source": [
        "print(len(set(labels)))\n",
        "print(labels)"
      ]
    },
    {
      "cell_type": "code",
      "execution_count": null,
      "metadata": {
        "id": "wudXLIhrww5H"
      },
      "outputs": [],
      "source": [
        "num_classes = labels.max() + 1\n",
        "X_train, X_test, y_train, y_test = train_test_split(images, labels, test_size=0.2, random_state=42)\n",
        "\n",
        "y_train = tf.keras.utils.to_categorical(y_train, num_classes=num_classes)\n",
        "y_test = tf.keras.utils.to_categorical(y_test, num_classes=num_classes)"
      ]
    },
    {
      "cell_type": "markdown",
      "metadata": {
        "id": "y0iGVrJfskyn"
      },
      "source": [
        "# Build Model"
      ]
    },
    {
      "cell_type": "code",
      "execution_count": null,
      "metadata": {
        "colab": {
          "base_uri": "https://localhost:8080/"
        },
        "id": "XagkALyEskyn",
        "outputId": "b0fc2bff-a9c1-4c67-9999-c443973f150e"
      },
      "outputs": [
        {
          "name": "stderr",
          "output_type": "stream",
          "text": [
            "d:\\Project Kuliah\\uts\\Lib\\site-packages\\keras\\src\\layers\\convolutional\\base_conv.py:107: UserWarning: Do not pass an `input_shape`/`input_dim` argument to a layer. When using Sequential models, prefer using an `Input(shape)` object as the first layer in the model instead.\n",
            "  super().__init__(activity_regularizer=activity_regularizer, **kwargs)\n"
          ]
        }
      ],
      "source": [
        "'''\n",
        "    Pada bagian ini lakukan proses pembuatan model,\n",
        "\n",
        "    1. Pembuatan input layer, hidden layer, output layer\n",
        "    2. Menentukan fungsi aktivasi\n",
        "    3. Compile Model (Menentukan optimizer, loss, metrics)\n",
        "    3. Proses fitting model\n",
        "'''\n",
        "ann = tf.keras.models.Sequential()\n",
        "\n",
        "ann.add(Conv2D(32, (3, 3), activation='relu', input_shape=(128, 128, 3)))\n",
        "ann.add(MaxPooling2D(pool_size=(2, 2)))\n",
        "\n",
        "ann.add(Conv2D(64, (3, 3), activation='relu'))\n",
        "ann.add(MaxPooling2D(pool_size=(2, 2)))\n",
        "\n",
        "ann.add(Conv2D(128, (3, 3), activation='relu'))\n",
        "ann.add(MaxPooling2D(pool_size=(2, 2)))\n",
        "\n",
        "# Flatten untuk mengubah output 3D menjadi 1D sebelum masuk ke dense layer\n",
        "ann.add(Flatten())\n",
        "\n",
        "# Dense Layer\n",
        "ann.add(Dense(128, activation='relu'))\n",
        "ann.add(Dropout(0.5))\n",
        "\n",
        "ann.add(Dense(num_classes, activation='softmax'))"
      ]
    },
    {
      "cell_type": "code",
      "execution_count": null,
      "metadata": {
        "id": "0tIVU-_ewR65"
      },
      "outputs": [],
      "source": [
        "ann.compile(\n",
        "    optimizer = 'adamax',\n",
        "    loss = 'binary_crossentropy',\n",
        "    metrics = ['accuracy']\n",
        "    )"
      ]
    },
    {
      "cell_type": "code",
      "execution_count": null,
      "metadata": {
        "colab": {
          "base_uri": "https://localhost:8080/"
        },
        "id": "s4vaBMeG_Fou",
        "outputId": "99ac2619-ecf5-4f6a-8711-0fb842edca4a"
      },
      "outputs": [
        {
          "name": "stdout",
          "output_type": "stream",
          "text": [
            "Epoch 1/50\n",
            "\u001b[1m25/25\u001b[0m \u001b[32m━━━━━━━━━━━━━━━━━━━━\u001b[0m\u001b[37m\u001b[0m \u001b[1m5s\u001b[0m 117ms/step - accuracy: 0.2335 - loss: 0.4239 - val_accuracy: 0.4350 - val_loss: 0.2480\n",
            "Epoch 2/50\n",
            "\u001b[1m25/25\u001b[0m \u001b[32m━━━━━━━━━━━━━━━━━━━━\u001b[0m\u001b[37m\u001b[0m \u001b[1m3s\u001b[0m 101ms/step - accuracy: 0.3725 - loss: 0.2998 - val_accuracy: 0.5200 - val_loss: 0.2423\n",
            "Epoch 3/50\n",
            "\u001b[1m25/25\u001b[0m \u001b[32m━━━━━━━━━━━━━━━━━━━━\u001b[0m\u001b[37m\u001b[0m \u001b[1m2s\u001b[0m 98ms/step - accuracy: 0.3589 - loss: 0.2863 - val_accuracy: 0.5750 - val_loss: 0.2134\n",
            "Epoch 4/50\n",
            "\u001b[1m25/25\u001b[0m \u001b[32m━━━━━━━━━━━━━━━━━━━━\u001b[0m\u001b[37m\u001b[0m \u001b[1m3s\u001b[0m 103ms/step - accuracy: 0.4619 - loss: 0.2488 - val_accuracy: 0.6250 - val_loss: 0.1946\n",
            "Epoch 5/50\n",
            "\u001b[1m25/25\u001b[0m \u001b[32m━━━━━━━━━━━━━━━━━━━━\u001b[0m\u001b[37m\u001b[0m \u001b[1m2s\u001b[0m 99ms/step - accuracy: 0.5429 - loss: 0.2303 - val_accuracy: 0.6950 - val_loss: 0.1825\n",
            "Epoch 6/50\n",
            "\u001b[1m25/25\u001b[0m \u001b[32m━━━━━━━━━━━━━━━━━━━━\u001b[0m\u001b[37m\u001b[0m \u001b[1m3s\u001b[0m 103ms/step - accuracy: 0.6396 - loss: 0.2034 - val_accuracy: 0.7450 - val_loss: 0.1476\n",
            "Epoch 7/50\n",
            "\u001b[1m25/25\u001b[0m \u001b[32m━━━━━━━━━━━━━━━━━━━━\u001b[0m\u001b[37m\u001b[0m \u001b[1m3s\u001b[0m 99ms/step - accuracy: 0.7026 - loss: 0.1894 - val_accuracy: 0.7550 - val_loss: 0.1344\n",
            "Epoch 8/50\n",
            "\u001b[1m25/25\u001b[0m \u001b[32m━━━━━━━━━━━━━━━━━━━━\u001b[0m\u001b[37m\u001b[0m \u001b[1m3s\u001b[0m 102ms/step - accuracy: 0.7409 - loss: 0.1538 - val_accuracy: 0.7250 - val_loss: 0.1264\n",
            "Epoch 9/50\n",
            "\u001b[1m25/25\u001b[0m \u001b[32m━━━━━━━━━━━━━━━━━━━━\u001b[0m\u001b[37m\u001b[0m \u001b[1m3s\u001b[0m 99ms/step - accuracy: 0.7675 - loss: 0.1505 - val_accuracy: 0.8650 - val_loss: 0.1150\n",
            "Epoch 10/50\n",
            "\u001b[1m25/25\u001b[0m \u001b[32m━━━━━━━━━━━━━━━━━━━━\u001b[0m\u001b[37m\u001b[0m \u001b[1m3s\u001b[0m 115ms/step - accuracy: 0.7981 - loss: 0.1284 - val_accuracy: 0.8250 - val_loss: 0.1054\n",
            "Epoch 11/50\n",
            "\u001b[1m25/25\u001b[0m \u001b[32m━━━━━━━━━━━━━━━━━━━━\u001b[0m\u001b[37m\u001b[0m \u001b[1m3s\u001b[0m 108ms/step - accuracy: 0.8213 - loss: 0.1135 - val_accuracy: 0.8300 - val_loss: 0.1010\n",
            "Epoch 12/50\n",
            "\u001b[1m25/25\u001b[0m \u001b[32m━━━━━━━━━━━━━━━━━━━━\u001b[0m\u001b[37m\u001b[0m \u001b[1m3s\u001b[0m 100ms/step - accuracy: 0.8611 - loss: 0.1030 - val_accuracy: 0.8550 - val_loss: 0.0955\n",
            "Epoch 13/50\n",
            "\u001b[1m25/25\u001b[0m \u001b[32m━━━━━━━━━━━━━━━━━━━━\u001b[0m\u001b[37m\u001b[0m \u001b[1m2s\u001b[0m 98ms/step - accuracy: 0.8643 - loss: 0.0957 - val_accuracy: 0.8200 - val_loss: 0.1044\n",
            "Epoch 14/50\n",
            "\u001b[1m25/25\u001b[0m \u001b[32m━━━━━━━━━━━━━━━━━━━━\u001b[0m\u001b[37m\u001b[0m \u001b[1m3s\u001b[0m 118ms/step - accuracy: 0.8804 - loss: 0.0935 - val_accuracy: 0.8750 - val_loss: 0.0840\n",
            "Epoch 15/50\n",
            "\u001b[1m25/25\u001b[0m \u001b[32m━━━━━━━━━━━━━━━━━━━━\u001b[0m\u001b[37m\u001b[0m \u001b[1m3s\u001b[0m 101ms/step - accuracy: 0.8667 - loss: 0.0885 - val_accuracy: 0.8750 - val_loss: 0.0823\n",
            "Epoch 16/50\n",
            "\u001b[1m25/25\u001b[0m \u001b[32m━━━━━━━━━━━━━━━━━━━━\u001b[0m\u001b[37m\u001b[0m \u001b[1m3s\u001b[0m 103ms/step - accuracy: 0.8994 - loss: 0.0784 - val_accuracy: 0.8950 - val_loss: 0.0772\n",
            "Epoch 17/50\n",
            "\u001b[1m25/25\u001b[0m \u001b[32m━━━━━━━━━━━━━━━━━━━━\u001b[0m\u001b[37m\u001b[0m \u001b[1m3s\u001b[0m 101ms/step - accuracy: 0.8886 - loss: 0.0794 - val_accuracy: 0.8800 - val_loss: 0.0735\n",
            "Epoch 18/50\n",
            "\u001b[1m25/25\u001b[0m \u001b[32m━━━━━━━━━━━━━━━━━━━━\u001b[0m\u001b[37m\u001b[0m \u001b[1m3s\u001b[0m 104ms/step - accuracy: 0.8946 - loss: 0.0722 - val_accuracy: 0.8950 - val_loss: 0.0765\n",
            "Epoch 19/50\n",
            "\u001b[1m25/25\u001b[0m \u001b[32m━━━━━━━━━━━━━━━━━━━━\u001b[0m\u001b[37m\u001b[0m \u001b[1m3s\u001b[0m 125ms/step - accuracy: 0.9268 - loss: 0.0604 - val_accuracy: 0.8950 - val_loss: 0.0783\n",
            "Epoch 20/50\n",
            "\u001b[1m25/25\u001b[0m \u001b[32m━━━━━━━━━━━━━━━━━━━━\u001b[0m\u001b[37m\u001b[0m \u001b[1m3s\u001b[0m 101ms/step - accuracy: 0.9098 - loss: 0.0641 - val_accuracy: 0.9100 - val_loss: 0.0737\n",
            "Epoch 21/50\n",
            "\u001b[1m25/25\u001b[0m \u001b[32m━━━━━━━━━━━━━━━━━━━━\u001b[0m\u001b[37m\u001b[0m \u001b[1m3s\u001b[0m 103ms/step - accuracy: 0.9397 - loss: 0.0504 - val_accuracy: 0.9000 - val_loss: 0.0721\n",
            "Epoch 22/50\n",
            "\u001b[1m25/25\u001b[0m \u001b[32m━━━━━━━━━━━━━━━━━━━━\u001b[0m\u001b[37m\u001b[0m \u001b[1m2s\u001b[0m 99ms/step - accuracy: 0.9427 - loss: 0.0506 - val_accuracy: 0.8900 - val_loss: 0.0731\n",
            "Epoch 23/50\n",
            "\u001b[1m25/25\u001b[0m \u001b[32m━━━━━━━━━━━━━━━━━━━━\u001b[0m\u001b[37m\u001b[0m \u001b[1m3s\u001b[0m 127ms/step - accuracy: 0.9394 - loss: 0.0505 - val_accuracy: 0.9100 - val_loss: 0.0660\n",
            "Epoch 24/50\n",
            "\u001b[1m25/25\u001b[0m \u001b[32m━━━━━━━━━━━━━━━━━━━━\u001b[0m\u001b[37m\u001b[0m \u001b[1m3s\u001b[0m 103ms/step - accuracy: 0.9646 - loss: 0.0399 - val_accuracy: 0.9000 - val_loss: 0.0719\n",
            "Epoch 25/50\n",
            "\u001b[1m25/25\u001b[0m \u001b[32m━━━━━━━━━━━━━━━━━━━━\u001b[0m\u001b[37m\u001b[0m \u001b[1m3s\u001b[0m 118ms/step - accuracy: 0.9519 - loss: 0.0424 - val_accuracy: 0.9050 - val_loss: 0.0691\n",
            "Epoch 26/50\n",
            "\u001b[1m25/25\u001b[0m \u001b[32m━━━━━━━━━━━━━━━━━━━━\u001b[0m\u001b[37m\u001b[0m \u001b[1m3s\u001b[0m 103ms/step - accuracy: 0.9727 - loss: 0.0320 - val_accuracy: 0.9100 - val_loss: 0.0757\n",
            "Epoch 27/50\n",
            "\u001b[1m25/25\u001b[0m \u001b[32m━━━━━━━━━━━━━━━━━━━━\u001b[0m\u001b[37m\u001b[0m \u001b[1m3s\u001b[0m 99ms/step - accuracy: 0.9757 - loss: 0.0328 - val_accuracy: 0.9100 - val_loss: 0.0704\n",
            "Epoch 28/50\n",
            "\u001b[1m25/25\u001b[0m \u001b[32m━━━━━━━━━━━━━━━━━━━━\u001b[0m\u001b[37m\u001b[0m \u001b[1m3s\u001b[0m 102ms/step - accuracy: 0.9723 - loss: 0.0311 - val_accuracy: 0.9050 - val_loss: 0.0684\n"
          ]
        }
      ],
      "source": [
        "from tensorflow.keras.callbacks import EarlyStopping\n",
        "\n",
        "early_stopping = EarlyStopping(monitor='val_loss', patience=5, restore_best_weights=True)\n",
        "\n",
        "history = ann.fit(X_train, y_train, batch_size=32, epochs=50, validation_data=(X_test, y_test), callbacks=[early_stopping])\n",
        "# history = ann.fit(X_train, y_train, batch_size=32, epochs=7, validation_data=(X_test, y_test))"
      ]
    },
    {
      "cell_type": "markdown",
      "metadata": {
        "id": "NmK6rkF5skyo"
      },
      "source": [
        "# Evaluation"
      ]
    },
    {
      "cell_type": "code",
      "execution_count": null,
      "metadata": {
        "colab": {
          "base_uri": "https://localhost:8080/"
        },
        "id": "5PXp-82nskyo",
        "outputId": "1b76826f-61aa-45fb-fae0-698db398e993"
      },
      "outputs": [
        {
          "name": "stdout",
          "output_type": "stream",
          "text": [
            "\u001b[1m7/7\u001b[0m \u001b[32m━━━━━━━━━━━━━━━━━━━━\u001b[0m\u001b[37m\u001b[0m \u001b[1m0s\u001b[0m 34ms/step - accuracy: 0.9145 - loss: 0.0623\n",
            "Test accuracy: 0.91, Test loss: 0.07\n"
          ]
        }
      ],
      "source": [
        "'''\n",
        "    Pada bagian ini, lakukan evaluasi terhadap data training dan data testing\n",
        "'''\n",
        "# Evaluasi model pada data testing\n",
        "test_loss, test_acc = ann.evaluate(X_test, y_test)\n",
        "print(f'Test accuracy: {test_acc:.2f}, Test loss: {test_loss:.2f}')\n"
      ]
    },
    {
      "cell_type": "code",
      "execution_count": null,
      "metadata": {
        "id": "WHwYmOvz3-wD",
        "outputId": "8e4fd96c-5acf-4a60-9371-144718014a6c"
      },
      "outputs": [
        {
          "name": "stdout",
          "output_type": "stream",
          "text": [
            "\u001b[1m7/7\u001b[0m \u001b[32m━━━━━━━━━━━━━━━━━━━━\u001b[0m\u001b[37m\u001b[0m \u001b[1m0s\u001b[0m 39ms/step\n"
          ]
        },
        {
          "data": {
            "image/png": "[encoded data removed]",
            "text/plain": [
              "<Figure size 1000x800 with 2 Axes>"
            ]
          },
          "metadata": {},
          "output_type": "display_data"
        }
      ],
      "source": [
        "from sklearn.metrics import confusion_matrix\n",
        "import seaborn as sns\n",
        "\n",
        "y_pred = ann.predict(X_test)\n",
        "y_pred_classes = np.argmax(y_pred, axis=1)  # Klasifikasi ke label\n",
        "y_true = np.argmax(y_test, axis=1)  # Label sebenarnya\n",
        "\n",
        "# Membuat confusion matrix\n",
        "cm = confusion_matrix(y_true, y_pred_classes)\n",
        "\n",
        "plt.figure(figsize=(10, 8))\n",
        "sns.heatmap(cm, annot=True, fmt=\"d\", cmap=\"Blues\")\n",
        "plt.xlabel(\"Predicted Label\")\n",
        "plt.ylabel(\"True Label\")\n",
        "plt.title(\"Confusion Matrix\")\n",
        "plt.show()"
      ]
    }
  ],
  "metadata": {
    "colab": {
      "provenance": [],
      "include_colab_link": true
    },
    "kernelspec": {
      "display_name": "uts",
      "language": "python",
      "name": "python3"
    },
    "language_info": {
      "codemirror_mode": {
        "name": "ipython",
        "version": 3
      },
      "file_extension": ".py",
      "mimetype": "text/x-python",
      "name": "python",
      "nbconvert_exporter": "python",
      "pygments_lexer": "ipython3",
      "version": "3.12.5"
    }
  },
  "nbformat": 4,
  "nbformat_minor": 0
}